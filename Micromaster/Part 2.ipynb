{
 "cells": [
  {
   "cell_type": "code",
   "execution_count": 11,
   "metadata": {
    "collapsed": true,
    "ExecuteTime": {
     "end_time": "2024-09-14T19:51:06.419871100Z",
     "start_time": "2024-09-14T19:51:06.406786700Z"
    }
   },
   "outputs": [],
   "source": [
    "import numpy as np\n",
    "import scipy.io\n",
    "from sklearn.model_selection import GridSearchCV\n",
    "from sklearn.linear_model import LogisticRegression, Perceptron\n",
    "from sklearn.metrics import accuracy_score\n",
    "from sklearn.neural_network import MLPClassifier\n",
    "import torch\n",
    "import torch.nn as nn\n",
    "import torch.optim as optim"
   ]
  },
  {
   "cell_type": "code",
   "execution_count": 2,
   "outputs": [
    {
     "name": "stderr",
     "output_type": "stream",
     "text": [
      "<>:1: SyntaxWarning: invalid escape sequence '\\M'\n",
      "<>:1: SyntaxWarning: invalid escape sequence '\\M'\n",
      "C:\\Users\\Zahra\\AppData\\Local\\Temp\\ipykernel_6020\\1667395508.py:1: SyntaxWarning: invalid escape sequence '\\M'\n",
      "  MNIST_data = scipy.io.loadmat('C:\\My Files\\micromaster\\Machine Learning\\HW2\\mnist.mat')\n"
     ]
    },
    {
     "name": "stdout",
     "output_type": "stream",
     "text": [
      "the shapes are:\n",
      " X_train: (8000, 784), y_train: (8000,)\n",
      " X_test: (2000, 784), y_test: (2000,)\n"
     ]
    }
   ],
   "source": [
    "MNIST_data = scipy.io.loadmat('C:\\My Files\\micromaster\\Machine Learning\\HW2\\mnist.mat')\n",
    "train_data = MNIST_data[\"train\"]\n",
    "test_data = MNIST_data[\"test\"]\n",
    "X_train = train_data[:, :784]\n",
    "y_train = train_data[:, 784]\n",
    "X_test = test_data[:, :784]\n",
    "y_test = test_data[:, 784]\n",
    "print(f\"the shapes are:\\n X_train: {X_train.shape}, y_train: {y_train.shape}\\n X_test: {X_test.shape}, y_test: {y_test.shape}\")"
   ],
   "metadata": {
    "collapsed": false,
    "ExecuteTime": {
     "end_time": "2024-09-14T18:24:25.360469100Z",
     "start_time": "2024-09-14T18:24:24.955776700Z"
    }
   }
  },
  {
   "cell_type": "code",
   "execution_count": 8,
   "outputs": [
    {
     "name": "stdout",
     "output_type": "stream",
     "text": [
      "the Best lambda is : 1.0\n",
      "Train Accuracy is: 0.9565\n",
      "Test Accuracy is: 0.8955\n"
     ]
    }
   ],
   "source": [
    "lambda_values = np.array([0.01, 0.1, 1, 10, 100])\n",
    "c_values = 1/lambda_values\n",
    "param_grid = {'C': c_values}\n",
    "log_reg = LogisticRegression(penalty='l2', max_iter=100, solver='liblinear')\n",
    "grid_search = GridSearchCV(log_reg, param_grid, cv=10, scoring='accuracy')\n",
    "grid_search.fit(X_train, y_train)\n",
    "best_C = grid_search.best_params_['C']\n",
    "print(f\"the Best lambda is : {1/best_C}\")\n",
    "best_model = grid_search.best_estimator_\n",
    "train_ypred = best_model.predict(X_train)\n",
    "train_accuracy = accuracy_score(y_train, train_ypred)\n",
    "print(f\"Train Accuracy is: {train_accuracy:.4f}\")\n",
    "test_ypred = best_model.predict(X_test)\n",
    "test_accuracy = accuracy_score(y_test, test_ypred)\n",
    "print(f\"Test Accuracy is: {test_accuracy:.4f}\")"
   ],
   "metadata": {
    "collapsed": false,
    "ExecuteTime": {
     "end_time": "2024-09-14T19:26:19.855707600Z",
     "start_time": "2024-09-14T19:19:08.406612700Z"
    }
   }
  },
  {
   "cell_type": "code",
   "execution_count": 12,
   "outputs": [
    {
     "name": "stdout",
     "output_type": "stream",
     "text": [
      "in train data the count for 3: 818\n",
      "in train data the count for 8: 803\n",
      "in test data the count for 3: 182\n",
      "in test data the count for 8:  197\n",
      "the shapes are:\n",
      " for X38_train: (1621, 784), for y38_train:(1621,),\n",
      " for X38_test: (379, 784), for y38_test: (379,)\n"
     ]
    }
   ],
   "source": [
    "train38_data = train_data[(train_data[:, -1] == 3) | (train_data[:, -1] == 8)]\n",
    "X38_train = train38_data[:, :784]\n",
    "y38_train = train38_data[:, 784]\n",
    "train3_data = train_data[train_data[:, -1] == 3]\n",
    "train8_data = train_data[train_data[:, -1] == 8]\n",
    "print(f\"in train data the count for 3: {train3_data.shape[0]}\\nin train data the count for 8: {train8_data.shape[0]}\")\n",
    "test38_data = test_data[(test_data[:, -1] == 3) | (test_data[:, -1] == 8)]\n",
    "X38_test = test38_data[:, :784]\n",
    "y38_test = test38_data[:, 784]\n",
    "test3_data = test_data[test_data[:, -1] == 3]\n",
    "test8_data = test_data[test_data[:, -1] == 8]\n",
    "print(f\"in test data the count for 3: {test3_data.shape[0]}\\nin test data the count for 8:  {test8_data.shape[0]}\")\n",
    "print(f\"the shapes are:\\n for X38_train: {X38_train.shape}, for y38_train:{y38_train.shape},\\n for X38_test: {X38_test.shape}, for y38_test: {y38_test.shape}\")"
   ],
   "metadata": {
    "collapsed": false,
    "ExecuteTime": {
     "end_time": "2024-09-14T20:15:41.709123600Z",
     "start_time": "2024-09-14T20:15:41.641390400Z"
    }
   }
  },
  {
   "cell_type": "code",
   "execution_count": 19,
   "outputs": [
    {
     "name": "stdout",
     "output_type": "stream",
     "text": [
      "Epoch [100/1000], Loss: 4.7845\n",
      "Epoch [200/1000], Loss: 2.5476\n",
      "Epoch [300/1000], Loss: 1.4515\n",
      "Epoch [400/1000], Loss: 1.0052\n",
      "Epoch [500/1000], Loss: 0.7868\n",
      "Epoch [600/1000], Loss: 0.6600\n",
      "Epoch [700/1000], Loss: 0.5773\n",
      "Epoch [800/1000], Loss: 0.5189\n",
      "Epoch [900/1000], Loss: 0.4752\n",
      "Epoch [1000/1000], Loss: 0.4411\n",
      "Train Accuracy: 0.9204\n",
      "Test Accuracy: 0.9103\n"
     ]
    }
   ],
   "source": [
    "X_train_tensor = torch.tensor(X38_train, dtype=torch.float32)\n",
    "y_train_tensor = torch.tensor(y38_train, dtype=torch.long)\n",
    "X_test_tensor = torch.tensor(X38_test, dtype=torch.float32)\n",
    "y_test_tensor = torch.tensor(y38_test, dtype=torch.long)\n",
    "\n",
    "class Perceptron(nn.Module):\n",
    "    def __init__(self, input_dim, output_dim):\n",
    "        super(Perceptron, self).__init__()\n",
    "        self.fc = nn.Linear(input_dim, output_dim)\n",
    "    def forward(self, x):\n",
    "        return self.fc(x)\n",
    "\n",
    "input_dim = X_train_tensor.shape[1]\n",
    "output_dim = len(set(y_train_tensor))\n",
    "model = Perceptron(input_dim, output_dim)\n",
    "\n",
    "criterion = nn.CrossEntropyLoss()\n",
    "optimizer = optim.SGD(model.parameters(), lr=0.001)\n",
    "\n",
    "num_epochs = 1000\n",
    "for epoch in range(num_epochs):\n",
    "    outputs = model(X_train_tensor)\n",
    "    loss = criterion(outputs, y_train_tensor)\n",
    "    optimizer.zero_grad()\n",
    "    loss.backward()\n",
    "    optimizer.step()\n",
    "    if (epoch+1) % 100 == 0:\n",
    "        print(f'Epoch [{epoch+1}/{num_epochs}], Loss: {loss.item():.4f}')\n",
    "\n",
    "with torch.no_grad():\n",
    "    train_ypred = model(X_train_tensor)\n",
    "    _, train_predicted = torch.max(train_ypred, 1)\n",
    "    train_accuracy = accuracy_score(y38_train, train_predicted.numpy())\n",
    "    print(f'Train Accuracy: {train_accuracy:.4f}')\n",
    "    test_ypred = model(X_test_tensor)\n",
    "    _, test_predicted = torch.max(test_ypred, 1)\n",
    "    test_accuracy = accuracy_score(y38_test, test_predicted.numpy())\n",
    "    print(f'Test Accuracy: {test_accuracy:.4f}')"
   ],
   "metadata": {
    "collapsed": false,
    "ExecuteTime": {
     "end_time": "2024-09-14T20:22:49.401164400Z",
     "start_time": "2024-09-14T20:20:56.027679100Z"
    }
   }
  },
  {
   "cell_type": "code",
   "execution_count": 13,
   "outputs": [
    {
     "name": "stdout",
     "output_type": "stream",
     "text": [
      "Train Accuracy: 0.9809\n",
      "Test Accuracy: 0.9551\n"
     ]
    }
   ],
   "source": [
    "perceptron = Perceptron(eta0=0.001, max_iter=100)\n",
    "perceptron.fit(X38_train, y38_train)\n",
    "y_train_pred = perceptron.predict(X38_train)\n",
    "y_test_pred = perceptron.predict(X38_test)\n",
    "train_accuracy = accuracy_score(y38_train, y_train_pred)\n",
    "test_accuracy = accuracy_score(y38_test, y_test_pred)\n",
    "print(f\"Train Accuracy: {train_accuracy:.4f}\")\n",
    "print(f\"Test Accuracy: {test_accuracy:.4f}\")\n"
   ],
   "metadata": {
    "collapsed": false,
    "ExecuteTime": {
     "end_time": "2024-09-14T20:15:45.499922Z",
     "start_time": "2024-09-14T20:15:45.422409800Z"
    }
   }
  },
  {
   "cell_type": "code",
   "execution_count": 20,
   "outputs": [
    {
     "name": "stdout",
     "output_type": "stream",
     "text": [
      "Train Accuracy: 1.0000\n",
      "Test Accuracy: 0.9465\n"
     ]
    }
   ],
   "source": [
    "model = MLPClassifier(hidden_layer_sizes=(100,), learning_rate_init=0.001, max_iter=200)\n",
    "model.fit(X_train, y_train)\n",
    "train_y_pred = model.predict(X_train)\n",
    "train_accuracy = accuracy_score(y_train, train_y_pred)\n",
    "print(f'Train Accuracy: {train_accuracy:.4f}')\n",
    "test_y_pred = model.predict(X_test)\n",
    "test_accuracy = accuracy_score(y_test, test_y_pred)\n",
    "print(f'Test Accuracy: {test_accuracy:.4f}')"
   ],
   "metadata": {
    "collapsed": false,
    "ExecuteTime": {
     "end_time": "2024-09-14T20:23:32.696195300Z",
     "start_time": "2024-09-14T20:23:02.356729600Z"
    }
   }
  }
 ],
 "metadata": {
  "kernelspec": {
   "display_name": "Python 3",
   "language": "python",
   "name": "python3"
  },
  "language_info": {
   "codemirror_mode": {
    "name": "ipython",
    "version": 2
   },
   "file_extension": ".py",
   "mimetype": "text/x-python",
   "name": "python",
   "nbconvert_exporter": "python",
   "pygments_lexer": "ipython2",
   "version": "2.7.6"
  }
 },
 "nbformat": 4,
 "nbformat_minor": 0
}
