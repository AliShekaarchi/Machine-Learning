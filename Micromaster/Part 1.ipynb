{
 "cells": [
  {
   "cell_type": "raw",
   "source": [],
   "metadata": {
    "collapsed": false
   }
  },
  {
   "cell_type": "code",
   "execution_count": 1,
   "metadata": {
    "collapsed": true,
    "ExecuteTime": {
     "end_time": "2024-09-05T19:44:52.952220200Z",
     "start_time": "2024-09-05T19:44:50.600112900Z"
    }
   },
   "outputs": [],
   "source": [
    "import numpy as np\n",
    "import pandas as pd\n",
    "import matplotlib.pyplot as plt\n",
    "import seaborn as sns\n",
    "from sklearn.preprocessing import OneHotEncoder, StandardScaler, PolynomialFeatures\n",
    "from sklearn.linear_model import SGDRegressor\n",
    "from sklearn.metrics import mean_squared_error, r2_score"
   ]
  },
  {
   "cell_type": "code",
   "execution_count": 2,
   "outputs": [
    {
     "name": "stdout",
     "output_type": "stream",
     "text": [
      "   Price  Age_08_04  Mfg_Month  Mfg_Year      KM Fuel_Type   HP  Met_Color  \\\n",
      "0  10250         53          4      2000  143513    Diesel   69          0   \n",
      "1   9450         77          4      1998   52900    Petrol  110          1   \n",
      "2   8950         76          5      1998  120263    Diesel   72          1   \n",
      "3   9750         70         11      1998   57829    Petrol  110          0   \n",
      "4   7995         62          7      1999   64797    Petrol  110          1   \n",
      "\n",
      "   Color  Automatic  ...  Powered_Windows  Power_Steering  Radio  Mistlamps  \\\n",
      "0   Grey          0  ...                0               0      0          0   \n",
      "1  Green          0  ...                0               1      0          0   \n",
      "2  Black          0  ...                0               1      0          0   \n",
      "3   Grey          0  ...                1               1      0          1   \n",
      "4  Green          0  ...                1               1      0          1   \n",
      "\n",
      "   Sport_Model  Backseat_Divider  Metallic_Rim  Radio_cassette  \\\n",
      "0            0                 0             0               0   \n",
      "1            0                 0             0               0   \n",
      "2            0                 0             0               0   \n",
      "3            0                 0             0               0   \n",
      "4            0                 1             1               0   \n",
      "\n",
      "   Parking_Assistant  Tow_Bar  \n",
      "0                  0        0  \n",
      "1                  0        0  \n",
      "2                  0        0  \n",
      "3                  0        0  \n",
      "4                  0        1  \n",
      "\n",
      "[5 rows x 37 columns]\n"
     ]
    }
   ],
   "source": [
    "train_dataـframe = pd.read_excel(\"C:/My Files/micromaster/Machine Learning/HW1/data/train.xlsx\")\n",
    "train_df = train_dataـframe.copy(deep=True)\n",
    "print(train_df.head())"
   ],
   "metadata": {
    "collapsed": false,
    "ExecuteTime": {
     "end_time": "2024-09-05T19:45:00.836294Z",
     "start_time": "2024-09-05T19:44:56.660157100Z"
    }
   }
  },
  {
   "cell_type": "code",
   "execution_count": 3,
   "outputs": [
    {
     "name": "stdout",
     "output_type": "stream",
     "text": [
      "Price                0\n",
      "Age_08_04            0\n",
      "Mfg_Month            0\n",
      "Mfg_Year             0\n",
      "KM                   0\n",
      "Fuel_Type            0\n",
      "HP                   0\n",
      "Met_Color            0\n",
      "Color                0\n",
      "Automatic            0\n",
      "CC                   0\n",
      "Doors                0\n",
      "Cylinders            0\n",
      "Gears                0\n",
      "Quarterly_Tax        0\n",
      "Weight               0\n",
      "Mfr_Guarantee        0\n",
      "BOVAG_Guarantee      0\n",
      "Guarantee_Period     0\n",
      "ABS                  0\n",
      "Airbag_1             0\n",
      "Airbag_2             0\n",
      "Airco                0\n",
      "Automatic_airco      0\n",
      "Boardcomputer        0\n",
      "CD_Player            0\n",
      "Central_Lock         0\n",
      "Powered_Windows      0\n",
      "Power_Steering       0\n",
      "Radio                0\n",
      "Mistlamps            0\n",
      "Sport_Model          0\n",
      "Backseat_Divider     0\n",
      "Metallic_Rim         0\n",
      "Radio_cassette       0\n",
      "Parking_Assistant    0\n",
      "Tow_Bar              0\n",
      "dtype: int64\n"
     ]
    }
   ],
   "source": [
    "train_miss_count = train_df.isnull().sum()\n",
    "print(train_miss_count)"
   ],
   "metadata": {
    "collapsed": false,
    "ExecuteTime": {
     "end_time": "2024-09-05T19:45:02.740302Z",
     "start_time": "2024-09-05T19:45:02.704921900Z"
    }
   }
  },
  {
   "cell_type": "code",
   "execution_count": 4,
   "outputs": [
    {
     "name": "stdout",
     "output_type": "stream",
     "text": [
      "   Price  Age_08_04  Mfg_Month  Mfg_Year     KM Fuel_Type   HP  Met_Color  \\\n",
      "0  13995         35         10      2001  41000    Petrol  110          1   \n",
      "1  15750         26          7      2002  43000    Petrol   97          0   \n",
      "2   9900         57         12      1999  31307    Petrol  110          1   \n",
      "3  10950         57         12      1999  80470    Petrol  110          0   \n",
      "4  12950         67          2      1999  58058    Petrol  110          1   \n",
      "\n",
      "   Color  Automatic  ...  Powered_Windows  Power_Steering  Radio  Mistlamps  \\\n",
      "0   Grey          0  ...                1               1      0          0   \n",
      "1   Grey          0  ...                1               1      0          0   \n",
      "2  Green          0  ...                0               1      0          0   \n",
      "3    Red          0  ...                0               1      0          0   \n",
      "4  Black          0  ...                1               1      0          1   \n",
      "\n",
      "   Sport_Model  Backseat_Divider  Metallic_Rim  Radio_cassette  \\\n",
      "0            0                 1             0               0   \n",
      "1            1                 1             0               0   \n",
      "2            1                 1             0               0   \n",
      "3            1                 1             0               0   \n",
      "4            1                 1             1               0   \n",
      "\n",
      "   Parking_Assistant  Tow_Bar  \n",
      "0                  0        0  \n",
      "1                  0        0  \n",
      "2                  0        0  \n",
      "3                  0        0  \n",
      "4                  0        0  \n",
      "\n",
      "[5 rows x 37 columns]\n"
     ]
    }
   ],
   "source": [
    "valid_dataـframe = pd.read_excel(\"C:/My Files/micromaster/Machine Learning/HW1/data/val.xlsx\")\n",
    "val_df = valid_dataـframe.copy(deep=True)\n",
    "print(val_df.head())"
   ],
   "metadata": {
    "collapsed": false,
    "ExecuteTime": {
     "end_time": "2024-09-05T19:45:04.271340600Z",
     "start_time": "2024-09-05T19:45:04.095857700Z"
    }
   }
  },
  {
   "cell_type": "code",
   "execution_count": 5,
   "outputs": [
    {
     "name": "stdout",
     "output_type": "stream",
     "text": [
      "Price                0\n",
      "Age_08_04            0\n",
      "Mfg_Month            0\n",
      "Mfg_Year             0\n",
      "KM                   0\n",
      "Fuel_Type            0\n",
      "HP                   0\n",
      "Met_Color            0\n",
      "Color                0\n",
      "Automatic            0\n",
      "CC                   0\n",
      "Doors                0\n",
      "Cylinders            0\n",
      "Gears                0\n",
      "Quarterly_Tax        0\n",
      "Weight               0\n",
      "Mfr_Guarantee        0\n",
      "BOVAG_Guarantee      0\n",
      "Guarantee_Period     0\n",
      "ABS                  0\n",
      "Airbag_1             0\n",
      "Airbag_2             0\n",
      "Airco                0\n",
      "Automatic_airco      0\n",
      "Boardcomputer        0\n",
      "CD_Player            0\n",
      "Central_Lock         0\n",
      "Powered_Windows      0\n",
      "Power_Steering       0\n",
      "Radio                0\n",
      "Mistlamps            0\n",
      "Sport_Model          0\n",
      "Backseat_Divider     0\n",
      "Metallic_Rim         0\n",
      "Radio_cassette       0\n",
      "Parking_Assistant    0\n",
      "Tow_Bar              0\n",
      "dtype: int64\n"
     ]
    }
   ],
   "source": [
    "val_miss_count = val_df.isnull().sum()\n",
    "print(val_miss_count)"
   ],
   "metadata": {
    "collapsed": false,
    "ExecuteTime": {
     "end_time": "2024-09-05T19:45:07.047048800Z",
     "start_time": "2024-09-05T19:45:06.993284900Z"
    }
   }
  },
  {
   "cell_type": "code",
   "execution_count": 6,
   "outputs": [
    {
     "name": "stdout",
     "output_type": "stream",
     "text": [
      "   Price  Age_08_04  Mfg_Month  Mfg_Year      KM Fuel_Type   HP  Met_Color  \\\n",
      "0   5950         77          4      1998  145996    Petrol  110          0   \n",
      "1   9950         58         11      1999  115715    Petrol  110          0   \n",
      "2   5950         71         10      1998   75085    Petrol   86          0   \n",
      "3   9950         68          1      1999  119541    Petrol  110          0   \n",
      "4   6950         65          4      1999  114383    Diesel   90          0   \n",
      "\n",
      "   Color  Automatic  ...  Powered_Windows  Power_Steering  Radio  Mistlamps  \\\n",
      "0   Grey          0  ...                1               1      0          0   \n",
      "1   Blue          0  ...                0               1      0          0   \n",
      "2   Blue          0  ...                0               1      0          0   \n",
      "3    Red          0  ...                1               1      0          1   \n",
      "4  White          0  ...                0               1      0          0   \n",
      "\n",
      "   Sport_Model  Backseat_Divider  Metallic_Rim  Radio_cassette  \\\n",
      "0            0                 0             0               0   \n",
      "1            0                 1             0               0   \n",
      "2            1                 1             0               0   \n",
      "3            0                 1             0               0   \n",
      "4            0                 0             0               0   \n",
      "\n",
      "   Parking_Assistant  Tow_Bar  \n",
      "0                  0        0  \n",
      "1                  0        0  \n",
      "2                  0        0  \n",
      "3                  0        0  \n",
      "4                  0        0  \n",
      "\n",
      "[5 rows x 37 columns]\n"
     ]
    }
   ],
   "source": [
    "test_dataـframe = pd.read_excel(\"C:/My Files/micromaster/Machine Learning/HW1/data/test.xlsx\")\n",
    "test_df = test_dataـframe.copy(deep=True)\n",
    "print(test_df.head())"
   ],
   "metadata": {
    "collapsed": false,
    "ExecuteTime": {
     "end_time": "2024-09-05T19:45:08.271631Z",
     "start_time": "2024-09-05T19:45:08.021513800Z"
    }
   }
  },
  {
   "cell_type": "code",
   "execution_count": 7,
   "outputs": [
    {
     "name": "stdout",
     "output_type": "stream",
     "text": [
      "Price                0\n",
      "Age_08_04            0\n",
      "Mfg_Month            0\n",
      "Mfg_Year             0\n",
      "KM                   0\n",
      "Fuel_Type            0\n",
      "HP                   0\n",
      "Met_Color            0\n",
      "Color                0\n",
      "Automatic            0\n",
      "CC                   0\n",
      "Doors                0\n",
      "Cylinders            0\n",
      "Gears                0\n",
      "Quarterly_Tax        0\n",
      "Weight               0\n",
      "Mfr_Guarantee        0\n",
      "BOVAG_Guarantee      0\n",
      "Guarantee_Period     0\n",
      "ABS                  0\n",
      "Airbag_1             0\n",
      "Airbag_2             0\n",
      "Airco                0\n",
      "Automatic_airco      0\n",
      "Boardcomputer        0\n",
      "CD_Player            0\n",
      "Central_Lock         0\n",
      "Powered_Windows      0\n",
      "Power_Steering       0\n",
      "Radio                0\n",
      "Mistlamps            0\n",
      "Sport_Model          0\n",
      "Backseat_Divider     0\n",
      "Metallic_Rim         0\n",
      "Radio_cassette       0\n",
      "Parking_Assistant    0\n",
      "Tow_Bar              0\n",
      "dtype: int64\n"
     ]
    }
   ],
   "source": [
    "test_miss_count = test_df.isnull().sum()\n",
    "print(test_miss_count)"
   ],
   "metadata": {
    "collapsed": false,
    "ExecuteTime": {
     "end_time": "2024-09-05T19:45:09.191409700Z",
     "start_time": "2024-09-05T19:45:09.145925400Z"
    }
   }
  },
  {
   "cell_type": "code",
   "execution_count": 8,
   "outputs": [
    {
     "name": "stdout",
     "output_type": "stream",
     "text": [
      "   Age_08_04  Mfg_Month  Mfg_Year      KM   HP  Met_Color  Automatic    CC  \\\n",
      "0         53          4      2000  143513   69          0          0  1900   \n",
      "1         77          4      1998   52900  110          1          0  1600   \n",
      "2         76          5      1998  120263   72          1          0  2000   \n",
      "3         70         11      1998   57829  110          0          0  1600   \n",
      "4         62          7      1999   64797  110          1          0  1600   \n",
      "\n",
      "   Doors  Cylinders  ...  Fuel_Type_Petrol  Color_Black  Color_Blue  \\\n",
      "0      5          4  ...               0.0          0.0         0.0   \n",
      "1      4          4  ...               1.0          0.0         0.0   \n",
      "2      5          4  ...               0.0          1.0         0.0   \n",
      "3      3          4  ...               1.0          0.0         0.0   \n",
      "4      5          4  ...               1.0          0.0         0.0   \n",
      "\n",
      "   Color_Green  Color_Grey  Color_Red  Color_Silver  Color_Violet  \\\n",
      "0          0.0         1.0        0.0           0.0           0.0   \n",
      "1          1.0         0.0        0.0           0.0           0.0   \n",
      "2          0.0         0.0        0.0           0.0           0.0   \n",
      "3          0.0         1.0        0.0           0.0           0.0   \n",
      "4          1.0         0.0        0.0           0.0           0.0   \n",
      "\n",
      "   Color_White  Color_Yellow  \n",
      "0          0.0           0.0  \n",
      "1          0.0           0.0  \n",
      "2          0.0           0.0  \n",
      "3          0.0           0.0  \n",
      "4          0.0           0.0  \n",
      "\n",
      "[5 rows x 45 columns]\n"
     ]
    }
   ],
   "source": [
    "train_target_vlaues = train_df.iloc[:, 0]\n",
    "train_features = train_df.iloc[:, 1:]\n",
    "encoder = OneHotEncoder(drop='first', sparse_output=False, handle_unknown='ignore')\n",
    "train_non_numeric_columns = train_features.select_dtypes(include=['object']).columns\n",
    "train_features_encoded = encoder.fit_transform(train_features[train_non_numeric_columns])\n",
    "train_features_encoded_df = pd.DataFrame(train_features_encoded, columns=encoder.get_feature_names_out(train_non_numeric_columns))\n",
    "train_features_final = pd.concat([train_features.reset_index(drop=True), train_features_encoded_df.reset_index(drop=True)], axis=1)\n",
    "train_features_final = train_features_final.drop(columns=train_non_numeric_columns)\n",
    "print(train_features_final.head())"
   ],
   "metadata": {
    "collapsed": false,
    "ExecuteTime": {
     "end_time": "2024-09-05T19:45:10.823547400Z",
     "start_time": "2024-09-05T19:45:10.763534900Z"
    }
   }
  },
  {
   "cell_type": "code",
   "execution_count": 9,
   "outputs": [
    {
     "name": "stdout",
     "output_type": "stream",
     "text": [
      "   Age_08_04  Mfg_Month  Mfg_Year     KM   HP  Met_Color  Automatic    CC  \\\n",
      "0         35         10      2001  41000  110          1          0  1600   \n",
      "1         26          7      2002  43000   97          0          0  1400   \n",
      "2         57         12      1999  31307  110          1          0  1600   \n",
      "3         57         12      1999  80470  110          0          0  1600   \n",
      "4         67          2      1999  58058  110          1          0  1600   \n",
      "\n",
      "   Doors  Cylinders  ...  Radio_cassette  Parking_Assistant  Tow_Bar  \\\n",
      "0      5          4  ...               0                  0        0   \n",
      "1      3          4  ...               0                  0        0   \n",
      "2      5          4  ...               0                  0        0   \n",
      "3      5          4  ...               0                  0        0   \n",
      "4      3          4  ...               0                  0        0   \n",
      "\n",
      "   Fuel_Type_Petrol  Color_Blue  Color_Green  Color_Grey  Color_Red  \\\n",
      "0               1.0         0.0          0.0         1.0        0.0   \n",
      "1               1.0         0.0          0.0         1.0        0.0   \n",
      "2               1.0         0.0          1.0         0.0        0.0   \n",
      "3               1.0         0.0          0.0         0.0        1.0   \n",
      "4               1.0         0.0          0.0         0.0        0.0   \n",
      "\n",
      "   Color_Silver  Color_White  \n",
      "0           0.0          0.0  \n",
      "1           0.0          0.0  \n",
      "2           0.0          0.0  \n",
      "3           0.0          0.0  \n",
      "4           0.0          0.0  \n",
      "\n",
      "[5 rows x 41 columns]\n"
     ]
    }
   ],
   "source": [
    "val_target_vlaues = val_df.iloc[:, 0]\n",
    "val_features = val_df.iloc[:, 1:]\n",
    "val_non_numeric_columns = val_features.select_dtypes(include=['object']).columns\n",
    "val_features_encoded = encoder.fit_transform(val_features[val_non_numeric_columns])\n",
    "val_features_encoded_df = pd.DataFrame(val_features_encoded, columns=encoder.get_feature_names_out(val_non_numeric_columns))\n",
    "val_features_final = pd.concat([val_features.reset_index(drop=True), val_features_encoded_df.reset_index(drop=True)], axis=1)\n",
    "val_features_final = val_features_final.drop(columns=val_non_numeric_columns)\n",
    "print(val_features_final.head())"
   ],
   "metadata": {
    "collapsed": false,
    "ExecuteTime": {
     "end_time": "2024-09-05T19:45:12.048994300Z",
     "start_time": "2024-09-05T19:45:11.988220900Z"
    }
   }
  },
  {
   "cell_type": "code",
   "execution_count": 10,
   "outputs": [
    {
     "name": "stdout",
     "output_type": "stream",
     "text": [
      "   Age_08_04  Mfg_Month  Mfg_Year      KM   HP  Met_Color  Automatic    CC  \\\n",
      "0         77          4      1998  145996  110          0          0  1600   \n",
      "1         58         11      1999  115715  110          0          0  1600   \n",
      "2         71         10      1998   75085   86          0          0  1300   \n",
      "3         68          1      1999  119541  110          0          0  1600   \n",
      "4         65          4      1999  114383   90          0          0  2000   \n",
      "\n",
      "   Doors  Cylinders  ...  Fuel_Type_Diesel  Fuel_Type_Petrol  Color_Blue  \\\n",
      "0      4          4  ...               0.0               1.0         0.0   \n",
      "1      5          4  ...               0.0               1.0         1.0   \n",
      "2      5          4  ...               0.0               1.0         1.0   \n",
      "3      3          4  ...               0.0               1.0         0.0   \n",
      "4      3          4  ...               1.0               0.0         0.0   \n",
      "\n",
      "   Color_Green  Color_Grey  Color_Red  Color_Silver  Color_Violet  \\\n",
      "0          0.0         1.0        0.0           0.0           0.0   \n",
      "1          0.0         0.0        0.0           0.0           0.0   \n",
      "2          0.0         0.0        0.0           0.0           0.0   \n",
      "3          0.0         0.0        1.0           0.0           0.0   \n",
      "4          0.0         0.0        0.0           0.0           0.0   \n",
      "\n",
      "   Color_White  Color_Yellow  \n",
      "0          0.0           0.0  \n",
      "1          0.0           0.0  \n",
      "2          0.0           0.0  \n",
      "3          0.0           0.0  \n",
      "4          1.0           0.0  \n",
      "\n",
      "[5 rows x 44 columns]\n"
     ]
    }
   ],
   "source": [
    "test_target_vlaues = test_df.iloc[:, 0]\n",
    "test_features = test_df.iloc[:, 1:]\n",
    "test_non_numeric_columns = test_features.select_dtypes(include=['object']).columns\n",
    "test_features_encoded = encoder.fit_transform(test_features[test_non_numeric_columns])\n",
    "test_features_encoded_df = pd.DataFrame(test_features_encoded, columns=encoder.get_feature_names_out(test_non_numeric_columns))\n",
    "test_features_final = pd.concat([test_features.reset_index(drop=True), test_features_encoded_df.reset_index(drop=True)], axis=1)\n",
    "test_features_final = test_features_final.drop(columns=test_non_numeric_columns)\n",
    "print(test_features_final.head())"
   ],
   "metadata": {
    "collapsed": false,
    "ExecuteTime": {
     "end_time": "2024-09-05T19:45:12.978174300Z",
     "start_time": "2024-09-05T19:45:12.907477900Z"
    }
   }
  },
  {
   "cell_type": "code",
   "execution_count": 11,
   "outputs": [
    {
     "name": "stdout",
     "output_type": "stream",
     "text": [
      "(1000, 41)\n",
      "(136, 41)\n",
      "(300, 41)\n"
     ]
    }
   ],
   "source": [
    "common_columns = train_features_final.columns.intersection(val_features_final.columns).intersection(test_features_final.columns)\n",
    "train_features_final = train_features_final[common_columns]\n",
    "val_features_final = val_features_final[common_columns]\n",
    "test_features_final = test_features_final[common_columns]\n",
    "print(train_features_final.shape)\n",
    "print(val_features_final.shape)\n",
    "print(test_features_final.shape)"
   ],
   "metadata": {
    "collapsed": false,
    "ExecuteTime": {
     "end_time": "2024-09-05T19:45:14.265295500Z",
     "start_time": "2024-09-05T19:45:14.200327800Z"
    }
   }
  },
  {
   "cell_type": "code",
   "execution_count": null,
   "outputs": [],
   "source": [
    "#train_target_vlaues = train_df.iloc[:, 0]\n",
    "#train_features = train_df.iloc[:, 1:]\n",
    "#train_non_numeric_columns = train_features.select_dtypes(include=['object']).columns\n",
    "#train_features_encoded = pd.get_dummies(train_features, columns=train_non_numeric_columns, drop_first=True)\n",
    "#train_features_encoded = train_features_encoded.apply(lambda col: col.astype(int) if col.dtype == 'bool' else col)\n",
    "#print(train_features_encoded.head())"
   ],
   "metadata": {
    "collapsed": false
   }
  },
  {
   "cell_type": "code",
   "execution_count": null,
   "outputs": [],
   "source": [
    "#val_target_vlaues = val_df.iloc[:, 0]\n",
    "#val_features = val_df.iloc[:, 1:]\n",
    "#val_non_numeric_columns = val_features.select_dtypes(include=['object']).columns\n",
    "#val_features_encoded = pd.get_dummies(val_features, columns=val_non_numeric_columns, drop_first=True)\n",
    "#val_features_encoded = val_features_encoded.apply(lambda col: col.astype(int) if col.dtype == 'bool' else col)\n",
    "#print(val_features_encoded.head())"
   ],
   "metadata": {
    "collapsed": false
   }
  },
  {
   "cell_type": "code",
   "execution_count": null,
   "outputs": [],
   "source": [
    "#test_target_vlaues = test_df.iloc[:, 0]\n",
    "#test_features = test_df.iloc[:, 1:]\n",
    "#test_non_numeric_columns = test_features.select_dtypes(include=['object']).columns\n",
    "#test_features_encoded = pd.get_dummies(test_features, columns=test_non_numeric_columns, drop_first=True)\n",
    "#test_features_encoded = test_features_encoded.apply(lambda col: col.astype(int) if col.dtype == 'bool' else col)\n",
    "#print(test_features_encoded.head())"
   ],
   "metadata": {
    "collapsed": false
   }
  },
  {
   "cell_type": "code",
   "execution_count": 12,
   "outputs": [
    {
     "data": {
      "text/plain": "<Figure size 1200x1200 with 2 Axes>",
      "image/png": "[encoded data removed]"
     },
     "metadata": {},
     "output_type": "display_data"
    },
    {
     "name": "stdout",
     "output_type": "stream",
     "text": [
      "               Mfg_Year  Powered_Windows  Radio_cassette  Fuel_Type_Petrol\n",
      "Age_08_04     -0.984057              NaN             NaN               NaN\n",
      "Quarterly_Tax       NaN              NaN             NaN         -0.844243\n",
      "Central_Lock        NaN         0.883783             NaN               NaN\n",
      "Radio               NaN              NaN        0.988275               NaN\n"
     ]
    }
   ],
   "source": [
    "fetures_correlation_matrix = train_features_final.corr()\n",
    "plt.figure(figsize=(12, 12))\n",
    "sns.heatmap(fetures_correlation_matrix, annot=False, cmap='coolwarm', fmt='.2f')\n",
    "plt.show()\n",
    "mask = np.triu(np.ones_like(fetures_correlation_matrix, dtype=bool), k=1)\n",
    "high_correlation = fetures_correlation_matrix.where(mask)\n",
    "high_correlation = high_correlation[abs(high_correlation) >= 0.75]\n",
    "print(high_correlation.dropna(how='all').dropna(axis=1, how='all'))"
   ],
   "metadata": {
    "collapsed": false,
    "ExecuteTime": {
     "end_time": "2024-09-05T19:45:23.869171100Z",
     "start_time": "2024-09-05T19:45:20.825979300Z"
    }
   }
  },
  {
   "cell_type": "code",
   "execution_count": 13,
   "outputs": [
    {
     "name": "stdout",
     "output_type": "stream",
     "text": [
      "targets have corr with FPetrol: -0.05, with Tax: 0.22\n",
      "targets have corr with Mfgyear:0.88, with Age: -0.88\n",
      "targets have corr with Windows:0.37, with Lock: 0.34\n",
      "targets have corr with Radio:-0.05, with Radiocassette: -0.05\n"
     ]
    }
   ],
   "source": [
    "compare_FPetrol_Tax = [train_target_vlaues.corr(train_features_final['Fuel_Type_Petrol']), train_target_vlaues.corr(train_features_final['Quarterly_Tax'])]\n",
    "print(f\"targets have corr with FPetrol: {compare_FPetrol_Tax[0]:.2f}, with Tax: {compare_FPetrol_Tax[1]:.2f}\")\n",
    "compare_Mfgyear_Age = [train_target_vlaues.corr(train_features_final['Mfg_Year']), train_target_vlaues.corr(train_features_final['Age_08_04'])]\n",
    "print(f\"targets have corr with Mfgyear:{compare_Mfgyear_Age[0]:.2f}, with Age: {compare_Mfgyear_Age[1]:.2f}\")\n",
    "compare_Windows_Lock = [train_target_vlaues.corr(train_features_final['Powered_Windows']), train_target_vlaues.corr(train_features_final['Central_Lock'])]\n",
    "print(f\"targets have corr with Windows:{compare_Windows_Lock[0]:.2f}, with Lock: {compare_Windows_Lock[1]:.2f}\")\n",
    "compare_Radio_Radiocassette = [train_target_vlaues.corr(train_features_final['Radio']), train_target_vlaues.corr(train_features_final['Radio_cassette'])]\n",
    "print(f\"targets have corr with Radio:{compare_Radio_Radiocassette[0]:.2f}, with Radiocassette: {compare_Radio_Radiocassette[1]:.2f}\")"
   ],
   "metadata": {
    "collapsed": false,
    "ExecuteTime": {
     "end_time": "2024-09-05T19:45:29.697136900Z",
     "start_time": "2024-09-05T19:45:29.653037700Z"
    }
   }
  },
  {
   "cell_type": "code",
   "execution_count": 14,
   "outputs": [],
   "source": [
    "train_features_final = train_features_final.drop(columns=['Cylinders','Parking_Assistant', 'Fuel_Type_Petrol', 'Mfg_Year', 'Central_Lock', 'Radio_cassette'])\n",
    "val_features_final = val_features_final.drop(columns=['Cylinders','Parking_Assistant', 'Fuel_Type_Petrol', 'Mfg_Year', 'Central_Lock', 'Radio_cassette'])\n",
    "test_features_final = test_features_final.drop(columns=['Cylinders','Parking_Assistant', 'Fuel_Type_Petrol', 'Mfg_Year', 'Central_Lock', 'Radio_cassette'])"
   ],
   "metadata": {
    "collapsed": false,
    "ExecuteTime": {
     "end_time": "2024-09-05T19:45:32.667372200Z",
     "start_time": "2024-09-05T19:45:32.641764300Z"
    }
   }
  },
  {
   "cell_type": "code",
   "execution_count": 15,
   "outputs": [
    {
     "name": "stdout",
     "output_type": "stream",
     "text": [
      "   Age_08_04  Mfg_Month        KM        HP        CC     Doors     Gears  \\\n",
      "0  -0.131637  -0.438590  2.026466 -2.070604  0.640378  1.020040 -0.131113   \n",
      "1   1.140221  -0.438590 -0.393506  0.562445  0.033459 -0.030465 -0.131113   \n",
      "2   1.087227  -0.141442  1.405536 -1.877942  0.842684  1.020040 -0.131113   \n",
      "3   0.769262   1.641445 -0.261869  0.562445  0.033459 -1.080969 -0.131113   \n",
      "4   0.345310   0.452854 -0.075777  0.562445  0.033459  1.020040 -0.131113   \n",
      "\n",
      "   Quarterly_Tax    Weight  Guarantee_Period  ...  Sport_Model  \\\n",
      "0       2.252513  1.227189         -0.258701  ...            0   \n",
      "1      -1.625129  0.031959         -0.258701  ...            0   \n",
      "2      -0.573961  1.135249          0.693571  ...            0   \n",
      "3      -1.625129 -0.427746         -0.258701  ...            0   \n",
      "4      -0.083416  0.031959         -0.258701  ...            0   \n",
      "\n",
      "   Backseat_Divider  Metallic_Rim  Tow_Bar  Color_Blue  Color_Green  \\\n",
      "0                 0             0        0         0.0          0.0   \n",
      "1                 0             0        0         0.0          1.0   \n",
      "2                 0             0        0         0.0          0.0   \n",
      "3                 0             0        0         0.0          0.0   \n",
      "4                 1             1        1         0.0          1.0   \n",
      "\n",
      "   Color_Grey  Color_Red  Color_Silver  Color_White  \n",
      "0         1.0        0.0           0.0          0.0  \n",
      "1         0.0        0.0           0.0          0.0  \n",
      "2         0.0        0.0           0.0          0.0  \n",
      "3         1.0        0.0           0.0          0.0  \n",
      "4         0.0        0.0           0.0          0.0  \n",
      "\n",
      "[5 rows x 35 columns]\n"
     ]
    }
   ],
   "source": [
    "train_binary_features = train_features_final[[col for col in train_features_final.columns if set(train_features_final[col].unique()).issubset({0, 1})]]\n",
    "train_numerical_features = train_features_final[[col for col in train_features_final.columns if col not in train_binary_features]]\n",
    "scaler = StandardScaler()\n",
    "train_features_numerical_scaled = scaler.fit_transform(train_numerical_features)\n",
    "train_features_numerical_scaled = pd.DataFrame(train_features_numerical_scaled, columns=train_numerical_features.columns)\n",
    "train_features_scaled = pd.concat([train_features_numerical_scaled, train_binary_features], axis=1)\n",
    "print(train_features_scaled.head())\n"
   ],
   "metadata": {
    "collapsed": false,
    "ExecuteTime": {
     "end_time": "2024-09-05T19:45:34.365420200Z",
     "start_time": "2024-09-05T19:45:34.295950300Z"
    }
   }
  },
  {
   "cell_type": "code",
   "execution_count": 16,
   "outputs": [
    {
     "name": "stdout",
     "output_type": "stream",
     "text": [
      "   Age_08_04  Mfg_Month        KM        HP        CC     Doors     Gears  \\\n",
      "0  -1.085531   1.344297 -0.711316  0.562445  0.033459  1.020040 -0.131113   \n",
      "1  -1.562478   0.452854 -0.657902 -0.272424 -0.371153 -1.080969 -0.131113   \n",
      "2   0.080339   1.938593 -0.970184  0.562445  0.033459  1.020040 -0.131113   \n",
      "3   0.080339   1.938593  0.342797  0.562445  0.033459  1.020040 -0.131113   \n",
      "4   0.610280  -1.032886 -0.255753  0.562445  0.033459 -1.080969  4.911681   \n",
      "\n",
      "   Quarterly_Tax    Weight  Guarantee_Period  ...  Sport_Model  \\\n",
      "0      -0.083416  0.031959         -0.258701  ...            0   \n",
      "1      -0.083416  0.491663         -0.258701  ...            1   \n",
      "2      -0.083416 -0.059982         -0.258701  ...            1   \n",
      "3      -0.083416  0.215840         -0.258701  ...            1   \n",
      "4      -0.083416 -0.151923         -0.258701  ...            1   \n",
      "\n",
      "   Backseat_Divider  Metallic_Rim  Tow_Bar  Color_Blue  Color_Green  \\\n",
      "0                 1             0        0         0.0          0.0   \n",
      "1                 1             0        0         0.0          0.0   \n",
      "2                 1             0        0         0.0          1.0   \n",
      "3                 1             0        0         0.0          0.0   \n",
      "4                 1             1        0         0.0          0.0   \n",
      "\n",
      "   Color_Grey  Color_Red  Color_Silver  Color_White  \n",
      "0         1.0        0.0           0.0          0.0  \n",
      "1         1.0        0.0           0.0          0.0  \n",
      "2         0.0        0.0           0.0          0.0  \n",
      "3         0.0        1.0           0.0          0.0  \n",
      "4         0.0        0.0           0.0          0.0  \n",
      "\n",
      "[5 rows x 35 columns]\n"
     ]
    }
   ],
   "source": [
    "val_binary_features = val_features_final[[col for col in val_features_final.columns if set(val_features_final[col].unique()).issubset({0, 1})]]\n",
    "val_numerical_features = val_features_final[[col for col in val_features_final.columns if col not in val_binary_features]]\n",
    "val_features_numerical_scaled = scaler.transform(val_numerical_features)\n",
    "val_features_numerical_scaled = pd.DataFrame(val_features_numerical_scaled, columns=val_numerical_features.columns)\n",
    "val_features_scaled = pd.concat([val_features_numerical_scaled, val_binary_features], axis=1)\n",
    "print(val_features_scaled.head())"
   ],
   "metadata": {
    "collapsed": false,
    "ExecuteTime": {
     "end_time": "2024-09-05T19:45:35.553145Z",
     "start_time": "2024-09-05T19:45:35.501500Z"
    }
   }
  },
  {
   "cell_type": "code",
   "execution_count": 17,
   "outputs": [
    {
     "name": "stdout",
     "output_type": "stream",
     "text": [
      "   Age_08_04  Mfg_Month        KM        HP        CC     Doors     Gears  \\\n",
      "0   1.140221  -0.438590  2.092779  0.562445  0.033459 -0.030465 -0.131113   \n",
      "1   0.133333   1.641445  1.284074  0.562445  0.033459  1.020040 -0.131113   \n",
      "2   0.822257   1.344297  0.198981 -0.978852 -0.573459  1.020040 -0.131113   \n",
      "3   0.663274  -1.330034  1.386253  0.562445  0.033459 -1.080969 -0.131113   \n",
      "4   0.504292  -0.438590  1.248500 -0.721969  0.842684 -1.080969 -0.131113   \n",
      "\n",
      "   Quarterly_Tax    Weight  Guarantee_Period  ...  Sport_Model  \\\n",
      "0      -0.457165 -0.703568         -0.258701  ...            0   \n",
      "1      -0.083416 -0.059982         -0.258701  ...            0   \n",
      "2      -0.457165 -0.703568         -0.258701  ...            1   \n",
      "3      -0.083416 -0.335805         -0.258701  ...            0   \n",
      "4      -0.573961  3.433769         -0.258701  ...            0   \n",
      "\n",
      "   Backseat_Divider  Metallic_Rim  Tow_Bar  Color_Blue  Color_Green  \\\n",
      "0                 0             0        0         0.0          0.0   \n",
      "1                 1             0        0         1.0          0.0   \n",
      "2                 1             0        0         1.0          0.0   \n",
      "3                 1             0        0         0.0          0.0   \n",
      "4                 0             0        0         0.0          0.0   \n",
      "\n",
      "   Color_Grey  Color_Red  Color_Silver  Color_White  \n",
      "0         1.0        0.0           0.0          0.0  \n",
      "1         0.0        0.0           0.0          0.0  \n",
      "2         0.0        0.0           0.0          0.0  \n",
      "3         0.0        1.0           0.0          0.0  \n",
      "4         0.0        0.0           0.0          1.0  \n",
      "\n",
      "[5 rows x 35 columns]\n"
     ]
    }
   ],
   "source": [
    "test_binary_features = test_features_final[[col for col in test_features_final.columns if set(test_features_final[col].unique()).issubset({0, 1})]]\n",
    "test_numerical_features = test_features_final[[col for col in test_features_final.columns if col not in test_binary_features]]\n",
    "test_features_numerical_scaled = scaler.transform(test_numerical_features)\n",
    "test_features_numerical_scaled = pd.DataFrame(test_features_numerical_scaled, columns=train_numerical_features.columns)\n",
    "test_features_scaled = pd.concat([test_features_numerical_scaled, test_binary_features], axis=1)\n",
    "print(test_features_scaled.head())"
   ],
   "metadata": {
    "collapsed": false,
    "ExecuteTime": {
     "end_time": "2024-09-05T19:45:36.423564600Z",
     "start_time": "2024-09-05T19:45:36.349607300Z"
    }
   }
  },
  {
   "cell_type": "code",
   "execution_count": 18,
   "outputs": [],
   "source": [
    "train_model = SGDRegressor().fit(train_features_scaled, train_target_vlaues)"
   ],
   "metadata": {
    "collapsed": false,
    "ExecuteTime": {
     "end_time": "2024-09-05T19:45:38.180946400Z",
     "start_time": "2024-09-05T19:45:38.112986400Z"
    }
   }
  },
  {
   "cell_type": "code",
   "execution_count": 19,
   "outputs": [
    {
     "name": "stdout",
     "output_type": "stream",
     "text": [
      "[7545.03917893]\n",
      "[-2194.29234327  -297.61683932  -713.4921051    384.7667991\n",
      "   -22.53808186     3.11580053    56.58187056   310.34910184\n",
      "   583.70848308   212.63492838   -88.91091729   317.15523559\n",
      "   251.66527688   823.01717862  -392.16153179  1085.59865781\n",
      "    34.71934211   157.36743419  2332.7387159   -225.35209451\n",
      "   142.19325746   345.88744885  1045.24912418  -126.66609826\n",
      "   109.77707342   343.4613567   -185.49543588   219.60048051\n",
      "  -215.1808674    472.26267962   126.98554741   543.07193838\n",
      "   364.02940209   569.77206669  -286.27200885]\n"
     ]
    }
   ],
   "source": [
    "intercept = train_model.intercept_\n",
    "print(intercept)\n",
    "W_coefficients = train_model.coef_\n",
    "print(W_coefficients)"
   ],
   "metadata": {
    "collapsed": false,
    "ExecuteTime": {
     "end_time": "2024-09-05T19:45:39.192384700Z",
     "start_time": "2024-09-05T19:45:39.165399900Z"
    }
   }
  },
  {
   "cell_type": "code",
   "execution_count": 20,
   "outputs": [
    {
     "name": "stdout",
     "output_type": "stream",
     "text": [
      "[ 8429.64813954  8113.72648024  6949.75696555 11001.74272803\n",
      "  9922.24525658  9349.57424137  9772.6450814  17863.30261863\n",
      "  9415.74875557  7194.10419558 11139.15849672 12702.60717473\n",
      "  9985.9165903   9619.75348447  8371.57835943  9392.71420785\n",
      "  5488.78557823 10045.1521958  10739.50736866 11061.86717474\n",
      " 10386.95734528  8568.38455531 11607.58127101  6803.60834477\n",
      " 10027.44662927  9117.25411476  7519.53351272  5762.65210257\n",
      " 10117.39202442  9832.57789419  9579.5796821  11568.8990273\n",
      " 15253.64121717  6952.69634134 13607.59723763  6497.89300501\n",
      " 11381.51675708 12799.45356307  7559.27951638  9170.72717407\n",
      " 10515.5409361  10758.49315618  8135.04990041  9004.73955033\n",
      "  7973.05146819 10599.62562522  9619.96207746  8267.57898773\n",
      "  9111.80866566  7900.63974602  8290.06927868  5861.92067089\n",
      "  8112.65942915  7639.33898806  9387.03789776 13726.22947225\n",
      " 13111.62968148 10086.85958038 10936.50357861 12260.51156926\n",
      " 12322.54555364 10737.92847115 10153.18161506  9386.71494643\n",
      " 11727.97395188 11210.71703699  9146.41761621 13325.86171341\n",
      "  7629.46409725 16114.57220955  8923.89443488 15060.12354091\n",
      " 16751.98008706  9166.92878232  6178.88562782 11801.38043248\n",
      "  7445.57413194  7982.26454532 16625.59994424  9068.20922595\n",
      " 11244.97819782  9580.21496471  8882.33211728 12459.48969889\n",
      "  7989.8069745  10787.33039755  6389.53978601  9654.64931939\n",
      "  8498.08745266 11408.05310132  6904.97653273 10402.28792464\n",
      " 20547.89296553 11822.57454552  8109.40549929  8860.14090654\n",
      " 16292.87380128 13612.43415106 12588.00980027 11595.54986968\n",
      " 11499.09342045 11374.66516068 12276.28419454 11623.27073413\n",
      "  7744.17492125 10148.65575171  8993.61015483  8235.8807048\n",
      "  8883.86355126  9091.08435928 10751.52131847 11397.45234935\n",
      " 12584.54652417 15675.34109485  7243.69642685 11164.30434454\n",
      " 17929.67625248  9825.23627405  9959.81297751  7299.26763084\n",
      " 16575.56186007  8941.0298133  19633.00167195 14866.50657324\n",
      " 15557.9035256   8371.45334255  6230.46705087 13047.51195317\n",
      " 17836.61549658  8940.16405588 11838.18599419 21234.15239862\n",
      "  9051.14168761 13249.32014596  8308.41495038  8717.07029265\n",
      " 10539.40013317 11282.35273093  7152.77461109 13685.94763068\n",
      " 15636.51789761 10568.71966385 17156.27875741  9980.69295475\n",
      "  8287.68004117 18806.0074428  11615.7569675  12694.98682076\n",
      "  7269.26656679 10459.94327109  8196.25578013  6150.25497469\n",
      "  8799.18865607 10605.34888626  8801.81702425 11011.08729469\n",
      " 10685.34814588  8541.87864572 21586.62634286  8171.34536132\n",
      "  9720.64171607 12958.10471832 21798.5588295  10904.80992092\n",
      " 10045.5797487   9905.16703751  9815.45506025 19504.36194015\n",
      " 10280.7472855  19896.39459646  7540.94769742 22513.50214096\n",
      "  5438.67618945 10902.62504207  8630.29054368  9790.76067318\n",
      "  6481.59124708 11584.25915048  9400.63900318 12943.8314716\n",
      "  7444.10336385 10350.58325471  8643.19619037  8727.02380964\n",
      "  8375.46471559  9354.37763359 10671.82060817 17228.05009065\n",
      "  7743.6333322   7381.97497506  8657.06198373  6442.78145393\n",
      " 10832.03528437 12846.88037368 15089.92559713 20010.29975771\n",
      "  6436.70892211  8153.94246755 21105.45896883 10378.97515396\n",
      " 10686.41535096  9453.17213303 18362.18071425  8174.83365143\n",
      "  9450.57678663 10553.32397847 19881.3840689   7455.63653529\n",
      " 12370.63501012  7754.38403322 10581.45417894  8471.59700627\n",
      "  5888.36017644  9925.74038442  9004.66902043  8861.2965332\n",
      "  7729.77320893  8395.26329969 14443.52867236 15152.55027245\n",
      " 10466.8772693  14831.30363317 12143.43494906  7282.72931544\n",
      " 11724.01348025  6983.29545787  3463.77879055  8478.086111\n",
      " 20764.74367259  7751.77354318 10232.00465127 10363.72620092\n",
      "  9787.44810102 10752.69458917  7715.48337104 12982.49640332\n",
      "  6576.0763216  13307.44401953  4564.01819557  9483.78740212\n",
      "  9042.12762032 10971.10382794 10425.27500031 11762.69314834\n",
      "  7691.28056248  8072.04759578  9445.83579147 10254.29808003\n",
      " 16448.30564181  9955.72751034 11083.37879793  8279.10320171\n",
      "  6130.5352573   9009.28881647 10004.41097864  8900.24230529\n",
      " 12553.4748738  12504.77769059 10458.53678587 10782.55805287\n",
      " 18500.61164324 10742.74485188  5523.97515157  6626.36820367\n",
      " 11541.3355326  11592.43995952 10454.86444339 14404.292422\n",
      " 11210.69867637 18919.89920268 12965.67066767 12281.47796646\n",
      "  8451.86928983  7543.01881084  8545.04246518  8388.50585673\n",
      " 11880.54550313  9956.11070947 11027.89533591  8925.53888355\n",
      "  7738.25018392  8825.31025402  9983.79563237 20451.89521339\n",
      "  9160.92584403 15532.63910406  7256.41095859  8934.31728127\n",
      " 11138.04447546 11535.27792133 18583.4623581  11854.51710435\n",
      "  7656.87287527  8773.85314396 11178.78316882  8380.03648783\n",
      "  6305.0068388  10964.62370408  6079.63464152  7695.35722124\n",
      " 12988.47725863 10410.0865522  16374.25364089 14785.8627159\n",
      " 18730.21807551  7287.07896517  8107.81569193  9368.74582679\n",
      "  8287.73887783 10996.82815045 12853.93608358 11495.54270621\n",
      " 13420.19146174 11950.6435925   9198.74026328  9089.2837799\n",
      "  8591.25788538  9858.08884329  9869.21109299  7732.36250124\n",
      " 16585.91680346 20241.06706154  8886.19352489  8522.67505191\n",
      " 13693.94968557  7875.11080294  7608.6540061   5654.4275775\n",
      " 18000.56271411  8977.11779676 10447.77729283  8163.37715969\n",
      "  9771.71050472 10763.67062652 12660.73008623  9512.3087715\n",
      " 15347.96241281  8389.13379443 10512.34322696 13289.57689116\n",
      " 20085.23746723  9684.00285258 13780.10994138  7452.36536928\n",
      "  5446.80275353  8157.88377131  9447.87184359  7371.79329912\n",
      " 13046.77197867  6939.7203837   8311.29498322 11631.86066465\n",
      "  9806.42438645 19469.60333265 10700.36624487  9484.55186475\n",
      " 17045.22045288  9736.7645039  13466.47644543  8793.98578669\n",
      "  8561.64869934 16423.50549125  5194.21691573 10716.44997092\n",
      " 23844.68441697  7866.10794838 21658.25201656  8344.19316664\n",
      " 13388.52204256  9513.81379179 20002.6675241  19234.1787035\n",
      "  8209.46988095 12655.92709219 15711.43560842  7675.16738039\n",
      " 18133.78052553  8947.51289971 10760.64359439 21283.88575913\n",
      " 13295.46782538  5368.1849681  13245.11337236 20755.67967674\n",
      "  7511.38607     6748.11872184 17574.6597504  10571.12322452\n",
      " 14836.62467885 10133.20726323  9700.38002525 10272.05445812\n",
      " 11376.30512254 16502.59356906  7275.83249298 13382.59499848\n",
      "  8906.03954359 12165.05065748 18792.0801643  10683.04921548\n",
      " 19491.94405492 17819.15177193  8607.32546152 10419.81447902\n",
      "  9246.93938968  7323.50738897 12243.77640614  8662.61077466\n",
      " 14790.90875939 10865.24925602  8022.73836837  8489.98110611\n",
      "  8924.24108939  8741.57356459  8227.84555327 16319.31466229\n",
      "  8962.97985146 14927.52290557  8506.93556859  8467.56282107\n",
      " 15875.24696256  7294.82566133 11601.15012456 13221.64226276\n",
      "  8249.80673866 18569.2176839   8576.75539565 10047.19087501\n",
      " 11891.0742819   8197.47675699 11344.72454572 20932.04092704\n",
      "  6393.2250986   5525.52655246 21909.63752869 12368.23525695\n",
      "  8229.17862798  5815.66577846  9074.17411052  7867.6027282\n",
      " 11146.0112835  19238.92363864 11828.55667162 14087.08452992\n",
      "  8214.95314061  9145.25952896  7432.92896484 13159.5938273\n",
      " 10972.64519767  8757.02384205  9312.93239733 18243.70197839\n",
      "  8282.45691978  9530.31487975  9941.09264612  9821.48075409\n",
      "  7455.93762928  7933.94184892 10881.86435489  7322.22247875\n",
      "  8131.42474586 10251.36195752  8292.52214937 16893.37147316\n",
      "  9123.38742664  7094.96851218  9058.16832038  9188.24574726\n",
      "  7777.6251238  11631.84923242 10136.83039306 13579.09730011\n",
      "  8050.3546198  10496.93910644 14645.91650622 11940.70117854\n",
      "  7487.4980224  18611.9578384   9119.0285404  18754.03775582\n",
      "  7017.00077588  7802.2471943  11193.96816333  8994.50675416\n",
      " 17168.01552761  8219.09808568  7314.59260537  7881.45645881\n",
      "  7708.94001778  7475.09295972 13402.46646846  8821.32713211\n",
      "  6622.74640242  7294.99169285  9674.51453254  9456.75961762\n",
      "  9082.98028015  9029.75233098 10136.6811292   9664.63325057\n",
      " 17998.74012665 11302.16237326  6725.41550727 11871.58124352\n",
      "  7407.61374303  9738.35769507  7565.38335819 10639.55918121\n",
      " 15011.36914869  8296.46806155 13878.23322505 27138.8455228\n",
      "  9042.20606336 12571.80658682 10397.56408242 15040.90978094\n",
      "  6105.93499006  6954.2148689   9576.1190401   9722.51438317\n",
      " 17879.84400913 27218.54782979  7829.7116055   8639.53134302\n",
      " 11978.13353073  9251.87398327  8717.87363067 11352.94134509\n",
      " 17251.77449237 11196.46685299 10691.67372109  7968.2323736\n",
      "  8942.80774036  8442.49391111 14009.18552869  8863.72328669\n",
      " 19408.64355009 10491.14739584 10451.91316588 11042.60764557\n",
      "  9248.32966549 10313.41696699  9300.58698335 16144.38832968\n",
      " 13092.16145694 10127.18217941  8969.44251918 17439.92146268\n",
      "  6768.32926664  7124.5651498  12910.11896058 10759.20213341\n",
      "  9479.33507268  7911.39001209  9704.25145507 11827.84348519\n",
      "  6658.71500795 20692.30853429  6949.33057149  7930.66223099\n",
      " 19720.55528982  7977.47523801 20449.23176722  9109.73147986\n",
      " 10292.74911669 11866.82008442  6328.91961033 12079.03564741\n",
      " 14016.96002247 12474.79283916  9888.89904728 18991.3947779\n",
      " 13868.72986141 11002.49495508 11206.5570113  16797.65497224\n",
      "  9045.41747315  8066.14835402 13127.25484143  7564.82478322\n",
      "  7592.58301807 10530.89952689 12830.53516428 15954.74442607\n",
      " 12373.16413712  8340.90040728  9359.20328417 12524.4417747\n",
      "  9075.16049456  9222.31455852 11655.15419044 10112.83244445\n",
      " 13452.22018833 10174.67340722 18682.50088601  8713.41373508\n",
      "  8106.30945245 12639.58511001 11214.84025199 10138.42264443\n",
      " 11944.27508314 13373.30566493 10416.34236043  7837.01122761\n",
      "  9604.85919512  7845.07653132  7165.67166455 10976.76242888\n",
      " 13528.10852326  8533.75253391 12151.07678001 10095.22316089\n",
      "  7634.03351902  8168.13184692  5998.7394312  11576.84796064\n",
      " 13465.75018795 17021.38852409  9315.39985739 10381.06650296\n",
      " 21238.14406514  9139.52621374 12410.38489367  7831.25457049\n",
      "  8743.09606315 10539.65006068 12027.04185861 13378.12584782\n",
      " 12445.08353735  8968.97305764  8831.66819517 11785.27219321\n",
      "  7987.8153809  13009.03962952 10446.63719695 14415.8105209\n",
      "  4958.10669909  9206.02891644  9718.52141105 10573.66275455\n",
      " 18207.92257805 10965.23086273 14824.60886537 12899.85583891\n",
      "  9755.11685558 13123.78652788 12542.07465362  8744.14005092\n",
      "  8238.25457506  8738.33418059 13465.18797688 17154.89957617\n",
      "  8763.12151688  9109.38536691  8086.32105174  8475.17140635\n",
      "  6854.62486035 10362.33526903  9226.82387389  9951.56032551\n",
      " 12213.59711072  9475.71300227  7962.66543002  8624.56543749\n",
      " 11896.78460314  8739.66463234  7511.98688683  7377.67414614\n",
      " 13833.57701586  9926.14425471 10765.15266139  8458.25229264\n",
      "  7540.65522399  9575.01043569  8565.77089044  8879.31130739\n",
      "  9262.27738368  9326.08219362  9770.37455274  8605.13565618\n",
      " 10144.78972583  9369.658343   10013.99434681 11205.98624676\n",
      "  9887.43838391  7890.61696117 10995.61521168 11125.08961164\n",
      "  8138.39006893  8119.09939953 10388.85212923 12947.30444799\n",
      " 18226.95498364 10311.01109514  8086.09384138  8753.29517342\n",
      " 10328.22927538  8313.57392736 10315.13553854  6946.4870096\n",
      " 10600.72875226  7433.52583521 20043.55374393  8370.00907125\n",
      "  7861.7799115  11456.30793989  6124.6162851   5762.202944\n",
      " 12510.72020136  6892.06468849 13641.08817351  7159.82602684\n",
      " 10345.54846522  8751.50124763  7982.96638194  9179.92245404\n",
      "  8599.3398477  10015.53838233  9103.09445817 18695.39663546\n",
      "  8869.5799492   9295.61274705 22972.57200264  5673.17878963\n",
      " 17600.1905441   9326.00998156 12829.66229478 13666.09027407\n",
      "  8998.28947489  9519.70424     8923.24689803  8055.22944356\n",
      " 12511.637131    6724.22747963  5605.98398484  9786.49652831\n",
      "  9656.55696677 11690.78600845 19020.05110918 11070.27352834\n",
      "  8249.34691252 13721.61594351  6708.38276899 12375.349559\n",
      "  8383.84092642  8784.78938181  5269.37168477  8000.76964469\n",
      "  7562.01588443  7648.89636829 13005.78309993  9077.07675778\n",
      " 11939.86214818 10513.81540146 16995.05407378 12216.14979759\n",
      " 12781.21291747 11499.01307269 11480.42474832 17424.97929881\n",
      "  9954.47482164  8317.50549793 18853.13241395  8965.58282768\n",
      "  9734.99425707  9241.82191764  9748.99464186  7023.28168924\n",
      "  9724.4845271  13211.65690481 12198.05183334 13736.62314744\n",
      " 12137.10502116 10809.11438563 10051.74519909  7949.10807934\n",
      " 12661.92007839  8035.83095917 10990.10881277  9736.51374517\n",
      " 10539.55204507 11214.07681118 10942.31217423  6821.26123249\n",
      " 10516.58302758  8171.94681226 15501.06583348 11475.75905861\n",
      "  6886.60212727 15888.87810644 12407.64389965 10205.33209848\n",
      "  8270.3311967  11136.57813006 12172.55245205  8783.62585636\n",
      "  9590.9771227   7702.86914748  9310.16256688  9888.71324087\n",
      "  6246.51815766 10848.78000151  9166.47035385 14103.48884694\n",
      " 12422.78439048 10112.50810927  5359.94509054  9231.5438563\n",
      " 11051.09016474  9875.81879112  6894.81167761 11161.22168763\n",
      "  7616.02531194 10611.71242922  8206.97073589  8299.93153221\n",
      "  8029.25630618 19386.90125871  6824.66375178  8225.1419428\n",
      "  7568.68859503  8340.29655571 15914.70971891 11456.36691318\n",
      "  8109.65517091 10311.01399509 10727.37521986  7946.09789763\n",
      " 12100.68160589  7379.93641728  9304.25635003  8161.17433574\n",
      "  8969.2363559  12652.33379231  6208.00151276 10856.80070009\n",
      " 11496.14629629  9956.75385802  7512.17828115 21887.84894695\n",
      " 12363.18962737 11032.31406589 19155.94334284  9074.71525835\n",
      " 13760.61644312  9631.15159258 13523.68890719 12368.23949015\n",
      " 10455.98962118 21587.00811928  8911.00028157  9036.1553183\n",
      "  7220.20006747  8666.71200395  9513.65427011  7220.08031107\n",
      "  7377.56757875 10547.8994733   9497.92073071 11210.5085235\n",
      "  8599.42287495 11090.33409984  7826.51082664  9932.17780432\n",
      "  6143.34180911 12476.45214292 17119.28318702 17954.39008725\n",
      "  8339.98047131 20998.67685708  9851.29698349  9732.76515315\n",
      " 11421.45877903  7774.84818269 10638.83239182 12184.10556195\n",
      "  9519.8485092  10987.22921542  7503.784533   10627.86427853\n",
      "  8518.35513249  8105.61933335 10521.22825953  8307.72770799\n",
      "  8661.26965657 15134.75341108 10435.18384049  6937.07992218\n",
      " 11388.01355272 11304.77019703  7207.78068803  7496.48429924\n",
      "  7862.74485556  7227.98127784  8062.12931819 16468.00737391\n",
      "  8146.77538319 10427.61191401 10965.35680926  9659.01363946\n",
      " 21326.79359243  9868.21672038 10352.73020269 10001.19362623\n",
      " 11994.30257308 11277.38928364  8492.31930674 13007.92663483\n",
      "  9722.82395965  9307.76266837  9089.54690475  8011.19107105\n",
      "  8247.47065845  6576.74348861 19525.06276103 19583.2391645\n",
      "  8300.83041967  7105.88583563  9713.34806875  7162.51397181\n",
      "  7822.99581299  8424.07596947  9555.85829726 13098.44588077\n",
      " 10016.62321764 13996.26793249 10691.63684422  6932.4879097\n",
      " 18511.91129531 10633.31411912  8978.15505912  9187.72902794\n",
      "  7334.48898124 17973.62121235  7914.56866936  9205.49324037\n",
      " 16432.07721573  6953.69400286  9086.36140063  9844.49644812\n",
      " 13385.27245811 15666.68213772  7033.19984254 10834.34907143\n",
      " 16810.3435402   9208.65621702  7609.08551653  8627.24467332\n",
      " 27193.82894098  7033.73560585  9669.06829356  9965.23080075\n",
      " 14981.72321776  8546.08343967  7895.152994   11412.01433051\n",
      " 15495.44919051  8528.59636895 10008.58547741 11114.62892017\n",
      " 12962.95966762  7147.58406692  7035.1347515   8271.76164743\n",
      "  8416.35067955 12306.56413333 11847.02700776  9766.17160619\n",
      " 11044.93379837  8457.91247255 10906.85341147 13231.34386149\n",
      "  7730.43382191 16007.28221593  9120.08619007 12254.96768178\n",
      "  8752.87982662 11204.52119778  9501.19754049  7256.18215847\n",
      "  9775.91795984  9866.48844051 17412.88892861 12558.24967864\n",
      "  9132.8772578  13102.99795429 11382.78228165 13322.68172413\n",
      "  8589.10561586 13526.14475351 10644.06845662 17261.41341778\n",
      " 16136.39219751  7295.0416573  12878.10669436  7572.03536605\n",
      "  9394.05162438 13344.44198405 12060.97314974  9694.40106326]\n"
     ]
    }
   ],
   "source": [
    "train_predictions = train_model.predict(train_features_scaled)\n",
    "print(train_predictions)"
   ],
   "metadata": {
    "collapsed": false,
    "ExecuteTime": {
     "end_time": "2024-09-05T19:45:40.370128800Z",
     "start_time": "2024-09-05T19:45:40.307438500Z"
    }
   }
  },
  {
   "cell_type": "code",
   "execution_count": 21,
   "outputs": [
    {
     "name": "stdout",
     "output_type": "stream",
     "text": [
      "1354076.323819135\n",
      "0.9028179747679467\n"
     ]
    }
   ],
   "source": [
    "train_mse = mean_squared_error(train_target_vlaues, train_predictions)\n",
    "print(train_mse)\n",
    "train_r2 = r2_score(train_target_vlaues, train_predictions)\n",
    "print(train_r2)"
   ],
   "metadata": {
    "collapsed": false,
    "ExecuteTime": {
     "end_time": "2024-09-05T19:45:43.617858900Z",
     "start_time": "2024-09-05T19:45:43.584114500Z"
    }
   }
  },
  {
   "cell_type": "code",
   "execution_count": 22,
   "outputs": [
    {
     "name": "stdout",
     "output_type": "stream",
     "text": [
      "[10346.0569204   7802.81944735  6894.42642949 10947.90545222\n",
      "  9890.47629144  9103.88862073  9799.58334252 18202.1925074\n",
      "  9322.50241441  7723.79495221 11088.35672659 12706.12195112\n",
      "  9875.68819762  9578.74122724  8637.87307949  8966.95230861\n",
      "  5374.61340534 10023.35201049 10412.17038631 11633.82034534\n",
      " 10268.86892868  8513.95347801 13413.80614534  6571.07384183\n",
      "  9901.08525342  8853.79171245  7670.05208285  5658.1213989\n",
      " 10199.59255896  9693.97106408  9494.28951283 11411.85063356\n",
      " 14967.00421261  6847.01041684 13709.75416119  6080.36047482\n",
      " 11362.62492108 12725.54550312  7530.89777286  9102.68218152\n",
      " 10504.85024801 10540.33334998  8334.29416946  9231.17566186\n",
      "  7900.25726772 10595.29515156  9798.67906782  8066.61457616\n",
      "  8890.79264401  7622.25217394  8169.53912636  6033.08588557\n",
      "  8059.32013832  7463.86362204  9301.40650861 13313.08192677\n",
      " 12967.44636599  9990.68349749 10874.64329378 12240.78484728\n",
      " 12262.43254468 10876.44492031 10114.38233901  9150.157291\n",
      " 11901.50451368 11216.09363161  9105.15324288 13560.50074762\n",
      "  7704.30074394 16165.75830262  8628.95678219 14957.22006379\n",
      " 16686.13573499  9042.40841535  6055.15958271 11825.87177585\n",
      "  7308.97291642  7718.23838405 16591.47275185  8853.11125585\n",
      " 11222.34709823  9441.13366837  8881.8301485  12726.6713515\n",
      "  7982.32767489 10539.73362151  6211.96514763  9623.70876035\n",
      "  8558.729431   11369.35546079  6645.11605645 10584.21653526\n",
      " 20543.19631018 12981.06185962  7970.58157401  8806.03010859\n",
      " 16271.77900434 13597.93963574 12511.80642964 11832.17067375\n",
      " 11469.82244876 11363.20118387 12413.78177351 11640.69660658\n",
      "  7629.82621708 10351.19265909  8773.53542355  7866.80953735\n",
      " 10389.14532294  8916.07468507 10727.19179441 11622.07904533\n",
      " 12297.04345532 15686.08342314  7219.0109854  11214.49944253\n",
      " 17864.28126879  9804.23208752 10000.19114509  7143.45491992\n",
      " 16620.45875439  8949.84850188 19727.32526036 14571.41351833\n",
      " 15543.59139743  8224.1798065   6075.35703628 13222.87481567\n",
      " 17555.12152976  8908.50518877 11813.68167446 21689.36723726\n",
      "  9087.24388135 13232.91717231  8240.78718279  8688.3934012\n",
      " 10451.90945175 11260.26429579  7420.31492236 13645.26396\n",
      " 15907.82419457 10464.46837173 17496.89316425  9993.66904006\n",
      "  8329.01007058 18890.72725713 11509.029418   12648.31397905\n",
      "  7260.71310222 10339.02942247  8091.25219072  5944.23822236\n",
      "  8661.8024725  10612.52171049  8674.19225443 10947.38945915\n",
      " 10613.17032254  8410.37060021 21654.30667151  8056.12411928\n",
      "  9580.61173752 13123.70842396 21873.90651788 10828.75549666\n",
      " 10363.44934017 10109.46625095  9770.31023365 19160.32138341\n",
      " 10495.25827633 20231.20828114  7448.69880447 22466.21453544\n",
      "  5270.15471132 10938.41674759  8534.97890961  9674.21468749\n",
      "  8410.93167294 11929.1626678   9303.18831492 13253.93996272\n",
      "  9301.00689049 10366.40840937  8718.09432252  8610.35070023\n",
      "  8531.8374149   9210.47858159 10653.92703698 17205.85999512\n",
      "  8499.9524172   8650.32637135  8640.33603088  6511.37693401\n",
      " 10911.77316931 12816.55894726 15023.76384577 20100.60427713\n",
      "  6320.24467258  7747.99680245 21271.56459872 10286.5900571\n",
      " 10610.86465685  9680.54733183 18415.32248106  7863.26179978\n",
      "  9723.85727908 10422.17829528 20255.46741003  7718.0535199\n",
      " 12161.86213844  7648.71231824 10565.05419672  8251.49259296\n",
      "  6267.25039645  9817.47185474  8836.3059166   8602.43259245\n",
      "  7535.56946869  8570.81230211 14326.84410796 15373.38492489\n",
      " 10330.30383339 15032.30246586 12009.67472347  8743.09556857\n",
      " 11604.706407    6781.4537203   4286.87379341  8364.75210988\n",
      " 20919.4931169   7661.29711643 10335.14180986 10469.2023692\n",
      "  9653.73966508 10677.02991473  7638.22757072 12915.96539449\n",
      "  6040.85241911 13284.43488986  6076.81532739  9471.69544397\n",
      "  8957.20486778 11184.82372335 10748.63532088 11698.63317899\n",
      "  7885.90615843  7967.7147825   9443.38400914 10330.93160195\n",
      " 16437.58845697  9576.78837644 11291.70239277  8224.7777298\n",
      "  5808.12550104  8890.86821693  9949.79695971  8869.99024586\n",
      " 12553.49220742 12503.36446404 10493.19072263 10768.98710008\n",
      " 18572.29930453 10635.34390412  5578.96154822  6621.64418868\n",
      " 11576.32121462 11555.30730757 10480.97803645 14326.37055899\n",
      " 11371.1711026  18564.84886051 12899.43921414 12291.0261799\n",
      "  8686.21725224  7630.22783373  8728.60734798  8333.20694311\n",
      " 12094.26700515  9899.55725865 11209.34083376  9252.57675127\n",
      "  7485.95400826  8762.7265427  10098.3974486  20553.04537083\n",
      "  9115.116957   15563.80791806  7225.88680153  8685.54742427\n",
      " 11134.98921535 11830.96233673 18502.15966982 11824.17137928\n",
      "  7353.75884651  8780.57974722 11001.18405586  8321.86640197\n",
      "  6147.43207507 10848.71975945  7821.08622289  7642.08533595\n",
      " 12945.84926585 10314.72231939 16340.38902125 14762.73336644\n",
      " 18694.25615837  7006.84532469  8056.03566788  9182.5022121\n",
      "  8222.92828775 10803.6364981  12790.61832784 11526.62777427\n",
      " 13321.43884918 12036.01112341  8897.21742127  9014.88788609\n",
      "  8398.15177911  9847.85040257  9956.07511142  7568.69972865\n",
      " 16804.36442472 20371.18665459  8866.11832195  8464.87567809\n",
      " 13420.58521711  7858.5924488   7408.37209272  5576.72531748\n",
      " 18395.3010915   8859.39324254 10375.90706144  8294.32069423\n",
      "  9781.9241464  10925.42850292 12645.06654773  9422.16772509\n",
      " 15389.53629284  8169.86269108 10291.66482927 13359.33396484\n",
      " 19999.84977401  9781.045322   13734.97460166  7310.98587361\n",
      "  7109.99513522  8071.98546455  9466.63182409  7334.38109465\n",
      " 13027.72785272  7062.40595274  8488.39842704 11644.11619403\n",
      " 10245.62336733 19259.64926299 10696.4121214   9527.573267\n",
      " 17022.60040985  9759.30413666 13502.53015942  8656.16505011\n",
      "  8433.76565429 16739.2002758   5572.33660637 10434.03364457\n",
      " 23966.41775311  7478.67962629 21726.82659544  8388.73115522\n",
      " 13424.2806039   9481.30755833 20386.65517981 19287.10016454\n",
      "  7919.08447021 12873.92064891 15577.20201646  7584.70757899\n",
      " 18072.1299727   8930.6285823  10745.58969833 21691.66998581\n",
      " 13252.65736677  5345.35068458 13279.25312115 21148.84398175\n",
      "  7291.52607178  6591.26553301 17598.67260128 10803.357463\n",
      " 14861.8341167   9980.8130064   9666.53320103 10093.89555979\n",
      " 11101.47572053 16692.24954938  7152.14000721 13392.84392823\n",
      "  8784.57900004 12082.05425016 19084.78915129 10622.68315065\n",
      " 19318.29545652 17904.00571608  8596.92313104 10421.1417897\n",
      "  9173.52347407  7549.42894971 12539.06681288  8636.820084\n",
      " 14823.45439769 10780.85874785  7859.06631551  8119.13998499\n",
      "  8703.13876777  9331.13196147  8012.63547995 16420.58525995\n",
      "  9092.69938905 14865.44359325  8866.53327789  8294.72163879\n",
      " 16120.1567669   7181.6357466  11574.26109156 13152.80673032\n",
      " 10300.45132657 18703.47665678  8527.58142302  9964.94939445\n",
      " 11737.00891434  8169.88937284 11274.99469333 21169.05483665\n",
      "  6338.25590457  5665.31383221 22012.11099098 12292.54879241\n",
      " 10091.02989925  5695.65872942  8892.62917809  7585.37371109\n",
      " 10993.55088146 19521.26833994 11799.75922524 13865.16585421\n",
      "  8064.3145942   9060.32922315  7334.83762636 13134.99287685\n",
      " 10880.67408881  8886.48362561  8984.15547973 18303.77062975\n",
      "  8444.74777494 10044.41215503  9993.11320071  9788.37481695\n",
      "  7236.55423123  7807.89091772 10863.33018075  7573.55280284\n",
      "  7989.92014905 10152.85887511  8185.19064054 16950.98521885\n",
      "  9098.16781576  9406.050181    8816.92146636  9303.58247854\n",
      "  7994.5269014  11707.55385286 10124.70957985 13527.00634949\n",
      "  8005.35599238 10437.08224264 14670.34120331 11971.64254989\n",
      "  7406.81969379 18659.40478973  8957.05287569 18935.16139124\n",
      "  6831.67977745  7888.02740211 11215.17008421  9124.94394045\n",
      " 17168.13082555  8021.3364623   7137.81379395  7588.75173356\n",
      "  7326.39016425  7653.89978546 13427.21254963  9058.29181009\n",
      "  6389.95938751  7134.06760584  9524.40272222  9335.86838335\n",
      "  8927.55845632  8959.29865714  9883.44669403  9649.10663954\n",
      " 17993.73140747 11097.26196077  6463.52038348 11700.06024029\n",
      "  7411.18464181  9890.88819441  7799.58828866 10845.4478296\n",
      " 14985.01548081  8235.06021563 13880.20807234 27331.87896296\n",
      "  8986.48206402 12556.45192843 10013.83714992 14997.12963759\n",
      "  6184.53528028  8461.79901924  9790.11015078  9937.79901565\n",
      " 18212.05907588 27407.43051743  7659.85137986  8676.05021291\n",
      " 11892.81212572  9235.78715981  8727.33725707 11304.73798769\n",
      " 17502.62842979 11322.79261194 10693.45285235  7740.41911968\n",
      "  8937.23585642 10504.41804165 13985.99294682  8784.73266385\n",
      " 19464.38394944 10442.92748776 10424.14351321 11146.73785017\n",
      "  9182.12807757 10252.04995469  9232.11165267 16083.70677131\n",
      " 12942.08253133 10168.42509359  8926.04152    17615.12802254\n",
      "  6537.25175985  6931.94037332 12950.93233904 10850.32934794\n",
      "  9591.1585653   7744.60270006  9608.68124041 12021.9544646\n",
      "  6874.18336175 20931.87149006  6910.30181301  7730.31105303\n",
      " 19752.70366034  7775.84052156 20571.7317738   9282.20459547\n",
      " 10286.25616507 11871.56420787  5925.06349998 12032.81258873\n",
      " 14337.79323411 12513.85915265  9826.9997663  19073.42614899\n",
      " 13830.65708608 11133.63509558 11093.72039446 16766.48392291\n",
      "  9280.54897399  8293.47777999 13049.86521347  7344.65201698\n",
      "  7226.19659279 10537.54039403 12838.60994239 15979.6883405\n",
      " 12420.78175923  8167.29271205  9152.34540608 12333.43669911\n",
      "  9143.14156006  9238.38313506 11959.47525517 10129.70831891\n",
      " 13464.04931064 10430.0238033  18755.38879764  8687.21726815\n",
      "  7974.20285941 12578.82788853 11036.10584188 10000.38071323\n",
      " 11939.91870754 13354.40082119 10599.89686858  8019.78996672\n",
      "  9503.41704047  7793.97077646  7255.20628628 10965.90797895\n",
      " 13496.45450324  8454.86874664 12084.21130451 10058.73688217\n",
      "  7487.37561486  8021.0804685   5761.8852192  11585.7343544\n",
      " 13516.78107106 16883.57408325  9098.1520821  10568.18438585\n",
      " 21395.90922196  9101.01706984 12381.87685335  7600.94263761\n",
      "  8769.34502186 10530.83353875 12003.25557792 13282.97879661\n",
      " 12511.30593161  8921.06301981  8827.60660733 11718.99190671\n",
      "  7813.12359426 12949.69852826 10409.82624544 14455.92129943\n",
      "  6781.7824269   9146.46777586  9551.07604734 10527.05845921\n",
      " 18028.52466898 10956.38645657 15114.12215046 12884.52343658\n",
      "  9629.39792197 13158.25246548 12492.75654519  8726.89112599\n",
      "  8199.95416346  8687.12255883 13407.55802129 17123.93301042\n",
      "  8982.17795155  9316.50627804  7873.75034585  8281.04009989\n",
      "  6978.39210217 10333.73649615  9126.5812689   9887.73470758\n",
      " 12262.92791242  9312.04089167  7903.36976285  8533.46148065\n",
      " 11715.42633733  8818.91238441  7710.24305355  7480.23839334\n",
      " 13741.63214865  9853.01302341 10658.84842588  8346.24637159\n",
      "  7327.83462633  9270.05565306  8326.20859267  8766.22449703\n",
      "  9463.5426683   9209.55304624  9705.50231979  8539.24386838\n",
      " 10136.27973919  9316.07553708 10266.64164081 11461.12065991\n",
      "  9632.75040212  7667.71041599 11014.25764452 11075.37861286\n",
      "  7944.29940996  8046.08607548 10349.72522868 12781.28787157\n",
      " 18302.17945538 10488.73940488  8195.37743604  8640.54577792\n",
      " 10296.70774784  7997.04852092 10085.48307847  7150.94809939\n",
      " 10556.39698688  7659.59117125 20198.04066132  8557.80580283\n",
      "  7639.46155781 11429.09978749  5897.7116817   5688.13006591\n",
      " 12404.02573152  6674.04528726 13648.65460835  7255.05262265\n",
      " 10277.51567366  8740.69171291  8000.62662956  9381.81138265\n",
      "  8506.7983599  10023.47612326  9014.22834812 18704.99877305\n",
      "  8800.81843022  9255.86375942 23146.31433748  5433.10891966\n",
      " 17453.6230391   9230.6740689  12828.34789183 13713.38024404\n",
      "  8964.69276164  9481.74247162  8717.54727234  7850.52471575\n",
      " 12478.50211773  6693.3561357   6223.30403924  9755.1290049\n",
      "  9611.42049517 11682.27967884 19252.72482064 11103.90941492\n",
      "  8061.86389011 13577.66040652  6562.39312067 12213.98649659\n",
      "  8261.85928227  8908.5585003   5544.98519769  7898.21599792\n",
      "  7380.14945091  7592.39064377 12991.73161576  8895.80047439\n",
      " 11872.2132785  10481.1188957  16980.25396855 12053.1464065\n",
      " 12823.98055528 11479.83022561 11473.85106502 18135.3861004\n",
      " 10107.65984174  8342.31567231 18878.32103958  8936.23030825\n",
      "  9691.48936442  9105.37527847  9923.1866433   6972.32318681\n",
      " 10002.53682678 13165.74359673 12402.20360191 13689.96395919\n",
      " 12026.54055082 10810.06120222  9780.25472854  7865.22930926\n",
      " 12666.47598646  8435.72689809 10870.83708219  9699.28350989\n",
      " 10522.24486951 11151.71544625 10901.44070422  7215.75800651\n",
      " 10451.61138764  8034.39922006 15520.12844262 11628.48534472\n",
      "  6918.09033094 16155.15679672 12385.24127805 10187.51545999\n",
      "  8156.45880653 11117.66989211 12208.70246856  8701.46222286\n",
      "  9397.81427312  7612.14450294  9104.08573185  9946.41182285\n",
      "  8022.39116664 10700.56943576  9247.23739603 14071.99090689\n",
      " 12686.8136639  10085.19020705  5297.27535057  9235.09897705\n",
      " 10964.99098379  9583.78167355  6662.48475852 11297.43514803\n",
      "  7362.11527285 10540.48464016  7878.00146183  8608.48549359\n",
      "  8064.54832905 19508.53067085  6918.84900386  8371.48531462\n",
      "  7517.57939743  8321.36344533 15844.66120285 11525.98994426\n",
      "  8016.05955076 10242.79220445 10695.05966856  7716.08636444\n",
      " 12011.83260719  7105.66922571  9193.54129045  8058.11614787\n",
      "  9041.73056614 12580.89414952  6101.71675815 10763.50655673\n",
      " 11348.76415088  9849.81244417  7380.19349359 22004.69675528\n",
      " 12162.94572509 10945.40470679 19159.60591176  9446.80988464\n",
      " 13740.37084362  9518.69929803 13494.95712415 12369.08412492\n",
      " 10274.29701824 21719.75950317  8936.067366    8997.79650368\n",
      "  7011.91802142  8579.32901765  9687.23956858  7055.23269108\n",
      "  7059.38356426 10499.00935139 11408.5969139  11204.31119677\n",
      "  8490.29795419 11013.24484533  7547.75656467 10278.66766395\n",
      "  6069.91946372 12428.01057738 17159.6739826  18404.33001353\n",
      "  8122.85120931 21126.48763546  9861.74649971  9602.77507672\n",
      " 11507.11477979  7567.71445538 10552.53840302 12198.90870109\n",
      "  9604.3635522  11117.9112371   7730.88064087 10616.96797842\n",
      "  8141.5516122   8002.49498953 10513.05420604  8248.91612452\n",
      "  8475.62519878 15114.75365365 10631.90130849  6876.0715046\n",
      " 11516.94266065 11378.06113822  7054.0574008   7265.9827601\n",
      "  7736.25917266  7115.99668405  7805.4932097  16453.0829067\n",
      "  8155.13534256 10324.03612767 10948.92131332  9671.50596844\n",
      " 21722.90513924  9896.36960922 10408.91813046 10041.08776057\n",
      " 11844.13465    11252.34753857  8483.19278053 13014.42686111\n",
      "  9488.35027592  9153.94416085  8999.00576076  7926.81256118\n",
      "  8180.85269349  6748.9820223  19953.70179128 19656.02449389\n",
      "  8217.21413419  6959.65505465  9794.13319334  7522.16876668\n",
      "  7739.06652503  8300.09305838  9560.46996064 13079.13409344\n",
      " 10045.08805492 14207.34753496 10487.88730068  6783.91968356\n",
      " 18535.12278163 10590.08359199  8933.9427288   9144.50629202\n",
      "  7314.4027679  17912.69525297  8074.04456232  9176.10950458\n",
      " 16670.86422942  6680.53609369  9368.73514064  9849.16318982\n",
      " 13345.05098013 15636.57743092  6650.18629501 10770.05490482\n",
      " 16836.26779444  9123.21810634  7365.93187468  8325.39389085\n",
      " 27408.81465856  7210.28553562  9340.22911891  9885.88539187\n",
      " 15265.45558078  8743.35210871  8583.332987   11380.11072022\n",
      " 15540.5488554   8411.11715979  9752.02245229 11074.04806609\n",
      " 13187.90222402  7134.38275016  6935.09365517  8263.24465673\n",
      "  8181.48805171 12298.88399895 11801.64136751  9943.04711524\n",
      " 11058.47670857  8448.0663889  10942.11572685 13193.17460146\n",
      "  7887.40941924 16268.36659534  9064.39496268 12162.01328771\n",
      "  8858.96356964 11695.5907142   9522.22896858  7417.87816157\n",
      "  9753.44174281 10151.88511177 17424.81575033 12443.00255699\n",
      "  9135.69940685 13133.61348439 11408.57744557 13202.75187619\n",
      "  8454.5613871  13670.43278902 11447.30399156 17270.3215602\n",
      " 16163.33462638  7620.74763099 12820.25011307  7548.38327549\n",
      "  9403.09231437 13261.16092132 12202.01015848  9941.34361463]\n",
      "1268455.317443033\n",
      "0.9089629923387196\n"
     ]
    }
   ],
   "source": [
    "uncoordinate_train_features_scaled = StandardScaler().fit_transform(train_features_final)\n",
    "uncoordinate_linear_regression_model = SGDRegressor().fit(uncoordinate_train_features_scaled, train_target_vlaues)\n",
    "uncoor_predictions = uncoordinate_linear_regression_model.predict(uncoordinate_train_features_scaled)\n",
    "print(uncoor_predictions)\n",
    "mse = mean_squared_error(train_target_vlaues, uncoor_predictions)\n",
    "print(mse)\n",
    "r2 = r2_score(train_target_vlaues, uncoor_predictions)\n",
    "print(r2)"
   ],
   "metadata": {
    "collapsed": false,
    "ExecuteTime": {
     "end_time": "2024-09-05T19:45:44.779665600Z",
     "start_time": "2024-09-05T19:45:44.709486700Z"
    }
   }
  },
  {
   "cell_type": "code",
   "execution_count": 23,
   "outputs": [
    {
     "name": "stdout",
     "output_type": "stream",
     "text": [
      "for learning rate = 1.0, R2 is -9.228577774597001e+18\n",
      "for learning rate = 0.5, R2 is -2.4438593453675213e+18\n",
      "for learning rate = 0.1, R2 is -1.5801781086641096e+16\n",
      "for learning rate = 0.01, R2 is -7155.807405921531\n",
      "for learning rate = 0.001, R2 is 0.8791946842946746\n"
     ]
    }
   ],
   "source": [
    "learning_rates = [1.0, 0.5, 0.1, 0.01, 0.001]\n",
    "for i in learning_rates:\n",
    "    LR_model = SGDRegressor(eta0=i, learning_rate='constant')\n",
    "    LR_model.fit(train_features_scaled, train_target_vlaues)\n",
    "    Val_predicts = LR_model.predict(val_features_scaled)\n",
    "    Val_r2 = r2_score(val_target_vlaues, Val_predicts)\n",
    "    print(f\"for learning rate = {i}, R2 is {Val_r2}\")"
   ],
   "metadata": {
    "collapsed": false,
    "ExecuteTime": {
     "end_time": "2024-09-05T19:45:50.791241300Z",
     "start_time": "2024-09-05T19:45:50.709159100Z"
    }
   }
  },
  {
   "cell_type": "code",
   "execution_count": 24,
   "outputs": [
    {
     "name": "stdout",
     "output_type": "stream",
     "text": [
      "In final model, for learning rate = 0.001, R2 is 0.8817838992805666\n"
     ]
    }
   ],
   "source": [
    "best_learning_rate = 0.001\n",
    "Final_LR_model = SGDRegressor(eta0=best_learning_rate, learning_rate='constant')\n",
    "Final_LR_model.fit(train_features_scaled, train_target_vlaues)\n",
    "Test_predicts = Final_LR_model.predict(test_features_scaled)\n",
    "Test_r2 = r2_score(test_target_vlaues, Test_predicts)\n",
    "print(f\"In final model, for learning rate = {best_learning_rate}, R2 is {Test_r2}\")"
   ],
   "metadata": {
    "collapsed": false,
    "ExecuteTime": {
     "end_time": "2024-09-05T19:46:07.565327100Z",
     "start_time": "2024-09-05T19:46:07.482204800Z"
    }
   }
  },
  {
   "cell_type": "code",
   "execution_count": 25,
   "outputs": [],
   "source": [
    "class Linear_Regression:\n",
    "    def __init__(self, feature_set, target_set, learning_rate, iter_number, W_in=None, b_in=0):\n",
    "        self.feature_set = feature_set\n",
    "        self.target_set = target_set\n",
    "        self.learning_rate = learning_rate\n",
    "        self.iter_number = iter_number\n",
    "        self.W_in = W_in or np.zeros(self.feature_set.shape[1])\n",
    "        self.b_in = b_in\n",
    "        self.scaled_feature_set = self.scale()[1]\n",
    "        self.scale_mean_std = self.scale()[0]\n",
    "        self.parameters = self.gradient_descent(self.scaled_feature_set, self.target_set, self.W_in, self.b_in, self.compute_gradient, self.learning_rate, self.iter_number)\n",
    "\n",
    "    def scale(self):\n",
    "        binary_features = self.feature_set[[col for col in self.feature_set.columns if set(self.feature_set[col].unique()).issubset({0, 1})]]\n",
    "        numerical_features = self.feature_set[[col for col in self.feature_set.columns if col not in binary_features]]\n",
    "        scaled_numerical_features = pd.DataFrame(index=numerical_features.index, columns=numerical_features.columns)\n",
    "        columns_count = numerical_features.shape[1]\n",
    "        rows_count = numerical_features.shape[0]\n",
    "        mean_std = []\n",
    "        for i in range(columns_count):\n",
    "            i_mean = np.mean(numerical_features.iloc[:, i])\n",
    "            i_std = np.std(numerical_features.iloc[:, i])\n",
    "            mean_std.append((i_mean, i_std))\n",
    "            for j in range(rows_count):\n",
    "                scaled_numerical_features.iloc[j, i] = (numerical_features.iloc[j, i] - i_mean) / i_std\n",
    "        features_scaled = pd.concat([scaled_numerical_features, binary_features], axis=1)\n",
    "        return (mean_std, features_scaled)\n",
    "\n",
    "    def compute_gradient(self, X, Y, W, b):\n",
    "        X = X.to_numpy().astype(np.float64)\n",
    "        Y = Y.to_numpy()\n",
    "        m,n = X.shape\n",
    "        dj_dw = np.zeros((n,))\n",
    "        dj_db = 0.0\n",
    "        X[np.isnan(X)] = 0\n",
    "        for i in range(m):\n",
    "            err = (np.dot(X[i], W) + b) - Y[i]\n",
    "            for j in range(n):\n",
    "                dj_dw[j] = dj_dw[j] + err * X[i][j]\n",
    "            dj_db = dj_db + err\n",
    "        dj_dw = dj_dw / m\n",
    "        dj_db = dj_db / m\n",
    "        return dj_db, dj_dw\n",
    "\n",
    "    def gradient_descent(self, X, Y, W_in, b_in, gradient_function, alpha, num_iters):\n",
    "        W = W_in\n",
    "        b = b_in\n",
    "        for i in range(num_iters):\n",
    "            dj_db,dj_dw = gradient_function(X, Y, W, b)\n",
    "            W = W - alpha * dj_dw\n",
    "            b = b - alpha * dj_db\n",
    "        return (W, b)\n",
    "\n",
    "    def prediction(self):\n",
    "        scaled_feature_set = self.scaled_feature_set.to_numpy().astype(np.float64)\n",
    "        predictions = np.zeros_like(self.target_set)\n",
    "        scaled_feature_set[np.isnan(scaled_feature_set)] = 0\n",
    "        for i in range(len(predictions)):\n",
    "            predictions[i] = np.dot(scaled_feature_set[i], self.parameters[0]) + self.parameters[1]\n",
    "        return predictions\n",
    "\n",
    "    def r_squared(self):\n",
    "        Y_mean = np.mean(self.target_set)\n",
    "        ss_tot = np.sum((self.target_set - Y_mean) ** 2)\n",
    "        ss_res = np.sum((self.target_set - self.prediction()) ** 2)\n",
    "        r2 = 1 - (ss_res / ss_tot)\n",
    "        return r2\n"
   ],
   "metadata": {
    "collapsed": false,
    "ExecuteTime": {
     "end_time": "2024-09-05T19:46:26.741453100Z",
     "start_time": "2024-09-05T19:46:26.703769900Z"
    }
   }
  },
  {
   "cell_type": "code",
   "execution_count": 26,
   "outputs": [],
   "source": [
    "def Val_r2(val_Xset, val_Yset, mean_std, train_parameters):\n",
    "    binary_features = val_Xset[[col for col in val_Xset.columns if set(val_Xset[col].unique()).issubset({0, 1})]]\n",
    "    numerical_features = val_Xset[[col for col in val_Xset.columns if col not in binary_features]]\n",
    "    scaled_numerical_features = pd.DataFrame(index=numerical_features.index, columns=numerical_features.columns)\n",
    "    columns_count = numerical_features.shape[1]\n",
    "    rows_count = numerical_features.shape[0]\n",
    "    for i in range(columns_count):\n",
    "        for j in range(rows_count):\n",
    "            scaled_numerical_features.iloc[j, i] = (numerical_features.iloc[j, i] - mean_std[i][0]) / mean_std[i][1]\n",
    "    features_scaled = pd.concat([scaled_numerical_features, binary_features], axis=1)\n",
    "    scaled_feature_set = features_scaled.to_numpy().astype(np.float64)\n",
    "    predictions = np.zeros_like(val_Yset)\n",
    "    scaled_feature_set[np.isnan(scaled_feature_set)] = 0\n",
    "    for i in range(len(predictions)):\n",
    "        predictions[i] = np.dot(scaled_feature_set[i], train_parameters[0]) + train_parameters[1]\n",
    "    Y_mean = np.mean(val_Yset)\n",
    "    ss_tot = np.sum((val_Yset - Y_mean) ** 2)\n",
    "    ss_res = np.sum((val_Yset - predictions) ** 2)\n",
    "    r2 = 1 - (ss_res / ss_tot)\n",
    "    return r2\n"
   ],
   "metadata": {
    "collapsed": false,
    "ExecuteTime": {
     "end_time": "2024-09-05T19:46:28.599290600Z",
     "start_time": "2024-09-05T19:46:28.564288900Z"
    }
   }
  },
  {
   "cell_type": "code",
   "execution_count": 28,
   "outputs": [
    {
     "name": "stdout",
     "output_type": "stream",
     "text": [
      "0.8449088156023181\n"
     ]
    }
   ],
   "source": [
    "train_manual_model = Linear_Regression(train_features_final, train_target_vlaues, learning_rate=0.01, iter_number=1000)\n",
    "print(train_manual_model.r_squared())"
   ],
   "metadata": {
    "collapsed": false,
    "ExecuteTime": {
     "end_time": "2024-09-05T19:47:12.700672500Z",
     "start_time": "2024-09-05T19:46:43.732827800Z"
    }
   }
  },
  {
   "cell_type": "code",
   "execution_count": 29,
   "outputs": [
    {
     "name": "stderr",
     "output_type": "stream",
     "text": [
      "C:\\Users\\Zahra\\AppData\\Local\\Temp\\ipykernel_18784\\744020685.py:40: RuntimeWarning: overflow encountered in scalar add\n",
      "  dj_db = dj_db + err\n",
      "C:\\Users\\Zahra\\AppData\\Local\\Temp\\ipykernel_18784\\744020685.py:39: RuntimeWarning: overflow encountered in scalar add\n",
      "  dj_dw[j] = dj_dw[j] + err * X[i][j]\n"
     ]
    },
    {
     "name": "stdout",
     "output_type": "stream",
     "text": [
      "for learning rate = 1.0, R2 is a huge number and incalculable\n",
      "for learning rate = 0.2, R2 is 0.8883753665605936\n",
      "for learning rate = 0.02, R2 is 0.814927411840467\n",
      "for learning rate = 0.002, R2 is 0.6603926844879264\n"
     ]
    }
   ],
   "source": [
    "manual_learning_rates = [1.0, 0.2, 0.02, 0.002]\n",
    "for i in manual_learning_rates:\n",
    "    LR_model = Linear_Regression(train_features_final, train_target_vlaues, learning_rate=i, iter_number=1000)\n",
    "    train_mean_std = LR_model.scale_mean_std\n",
    "    train_parameters = LR_model.parameters\n",
    "    try:\n",
    "        r2 = Val_r2(val_features_final, val_target_vlaues, train_mean_std, train_parameters)\n",
    "        print(f\"for learning rate = {i}, R2 is {r2}\")\n",
    "    except:\n",
    "        print(f\"for learning rate = {i}, R2 is a huge number and incalculable\")"
   ],
   "metadata": {
    "collapsed": false,
    "ExecuteTime": {
     "end_time": "2024-09-05T19:49:19.081733500Z",
     "start_time": "2024-09-05T19:47:29.392073200Z"
    }
   }
  },
  {
   "cell_type": "code",
   "execution_count": 30,
   "outputs": [
    {
     "name": "stdout",
     "output_type": "stream",
     "text": [
      "In final model, for learning rate = 0.2, R2 is 0.8955895477303046\n"
     ]
    }
   ],
   "source": [
    "best_manual_learning_rate = 0.2\n",
    "Final_manual_LR_model = Linear_Regression(train_features_final, train_target_vlaues, learning_rate=best_manual_learning_rate, iter_number=1000)\n",
    "Final_train_mean_std = Final_manual_LR_model.scale_mean_std\n",
    "Final_train_parameters = Final_manual_LR_model.parameters\n",
    "manual_Test_r2 = Val_r2(test_features_final, test_target_vlaues, Final_train_mean_std, Final_train_parameters)\n",
    "print(f\"In final model, for learning rate = {best_manual_learning_rate}, R2 is {manual_Test_r2}\")"
   ],
   "metadata": {
    "collapsed": false,
    "ExecuteTime": {
     "end_time": "2024-09-05T19:50:21.867825700Z",
     "start_time": "2024-09-05T19:49:54.039516400Z"
    }
   }
  },
  {
   "cell_type": "code",
   "execution_count": 31,
   "outputs": [],
   "source": [
    "polynomial_features = PolynomialFeatures(degree=3)\n",
    "train_numerical_features_poly = pd.DataFrame(polynomial_features.fit_transform(train_numerical_features))\n",
    "train_features_numerical_poly = pd.DataFrame(train_numerical_features_poly, columns=train_numerical_features_poly.columns)\n",
    "train_features_poly = pd.concat([train_features_numerical_poly, train_binary_features], axis=1)\n",
    "train_X_poly = train_features_poly\n",
    "train_X_poly = train_X_poly.to_numpy().astype(np.float64)\n",
    "train_X_poly[np.isnan(train_X_poly)] = 0\n",
    "train_X_poly_df = pd.DataFrame(train_X_poly)"
   ],
   "metadata": {
    "collapsed": false,
    "ExecuteTime": {
     "end_time": "2024-09-05T19:50:42.827738500Z",
     "start_time": "2024-09-05T19:50:42.763162900Z"
    }
   }
  },
  {
   "cell_type": "code",
   "execution_count": 32,
   "outputs": [],
   "source": [
    "val_numerical_features_poly = pd.DataFrame(polynomial_features.fit_transform(val_numerical_features))\n",
    "val_features_numerical_poly = pd.DataFrame(val_numerical_features_poly, columns=val_numerical_features_poly.columns)\n",
    "val_features_poly = pd.concat([val_features_numerical_poly, val_binary_features], axis=1)\n",
    "val_X_poly = val_features_poly\n",
    "val_X_poly = val_X_poly.to_numpy().astype(np.float64)\n",
    "val_X_poly[np.isnan(val_X_poly)] = 0\n",
    "val_X_poly_df = pd.DataFrame(val_X_poly)"
   ],
   "metadata": {
    "collapsed": false,
    "ExecuteTime": {
     "end_time": "2024-09-05T19:50:44.343555600Z",
     "start_time": "2024-09-05T19:50:44.317607100Z"
    }
   }
  },
  {
   "cell_type": "code",
   "execution_count": 33,
   "outputs": [],
   "source": [
    "test_numerical_features_poly = pd.DataFrame(polynomial_features.fit_transform(test_numerical_features))\n",
    "test_features_numerical_poly = pd.DataFrame(test_numerical_features_poly, columns=test_numerical_features_poly.columns)\n",
    "test_features_poly = pd.concat([test_features_numerical_poly, test_binary_features], axis=1)\n",
    "test_X_poly = test_features_poly\n",
    "test_X_poly = test_X_poly.to_numpy().astype(np.float64)\n",
    "test_X_poly[np.isnan(test_X_poly)] = 0\n",
    "test_X_poly_df = pd.DataFrame(test_X_poly)"
   ],
   "metadata": {
    "collapsed": false,
    "ExecuteTime": {
     "end_time": "2024-09-05T19:50:45.085043800Z",
     "start_time": "2024-09-05T19:50:45.068053700Z"
    }
   }
  },
  {
   "cell_type": "code",
   "execution_count": 35,
   "outputs": [
    {
     "name": "stdout",
     "output_type": "stream",
     "text": [
      "0.9039381053489096\n"
     ]
    }
   ],
   "source": [
    "train_manual_Xpoly = Linear_Regression(train_X_poly_df, train_target_vlaues, learning_rate=0.01, iter_number=1000)\n",
    "print(train_manual_Xpoly.r_squared())"
   ],
   "metadata": {
    "collapsed": false,
    "ExecuteTime": {
     "end_time": "2024-09-05T19:56:25.392383100Z",
     "start_time": "2024-09-05T19:52:14.330420Z"
    }
   }
  },
  {
   "cell_type": "code",
   "execution_count": 41,
   "outputs": [
    {
     "name": "stderr",
     "output_type": "stream",
     "text": [
      "C:\\Users\\Zahra\\AppData\\Local\\Temp\\ipykernel_18784\\744020685.py:39: RuntimeWarning: overflow encountered in scalar add\n",
      "  dj_dw[j] = dj_dw[j] + err * X[i][j]\n"
     ]
    },
    {
     "name": "stdout",
     "output_type": "stream",
     "text": [
      "for learning rate = 1.0, R2 is a huge number and incalculable\n"
     ]
    },
    {
     "name": "stderr",
     "output_type": "stream",
     "text": [
      "C:\\Users\\Zahra\\AppData\\Local\\Temp\\ipykernel_18784\\744020685.py:39: RuntimeWarning: overflow encountered in scalar add\n",
      "  dj_dw[j] = dj_dw[j] + err * X[i][j]\n",
      "C:\\Users\\Zahra\\AppData\\Local\\Temp\\ipykernel_18784\\744020685.py:39: RuntimeWarning: invalid value encountered in scalar multiply\n",
      "  dj_dw[j] = dj_dw[j] + err * X[i][j]\n"
     ]
    },
    {
     "name": "stdout",
     "output_type": "stream",
     "text": [
      "for learning rate = 0.1, R2 is a huge number and incalculable\n",
      "for learning rate = 0.01, R2 is 0.8371795412197027\n",
      "for learning rate = 0.001, R2 is 0.7434922882641032\n"
     ]
    }
   ],
   "source": [
    "poly_manual_learning_rates = [1.0, 0.1, 0.01, 0.001]\n",
    "for i in poly_manual_learning_rates:\n",
    "    poly_LR_model = Linear_Regression(train_X_poly_df, train_target_vlaues, learning_rate=i, iter_number=1000)\n",
    "    train_mean_std = poly_LR_model.scale_mean_std\n",
    "    train_parameters = poly_LR_model.parameters\n",
    "    try:\n",
    "        r2 = Val_r2(val_X_poly_df, val_target_vlaues, train_mean_std, train_parameters)\n",
    "        print(f\"for learning rate = {i}, R2 is {r2}\")\n",
    "    except:\n",
    "        print(f\"for learning rate = {i}, R2 is a huge number and incalculable\")"
   ],
   "metadata": {
    "collapsed": false,
    "ExecuteTime": {
     "end_time": "2024-09-05T21:19:05.533235500Z",
     "start_time": "2024-09-05T21:02:07.019441300Z"
    }
   }
  },
  {
   "cell_type": "code",
   "execution_count": 42,
   "outputs": [
    {
     "name": "stdout",
     "output_type": "stream",
     "text": [
      "In final model, for learning rate = 0.01, R2 is 0.8615811459317373\n"
     ]
    }
   ],
   "source": [
    "best_manual_poly_learning_rate = 0.01\n",
    "Final_manual_poly_LR_model = Linear_Regression(train_X_poly_df, train_target_vlaues, learning_rate=best_manual_poly_learning_rate, iter_number=1000)\n",
    "Final_poly_test_mean_std = Final_manual_poly_LR_model.scale_mean_std\n",
    "Final_poly_test_parameters = Final_manual_poly_LR_model.parameters\n",
    "Test_poly_r2 = Val_r2(test_X_poly_df, test_target_vlaues, Final_poly_test_mean_std , Final_poly_test_parameters)\n",
    "print(f\"In final model, for learning rate = {best_manual_poly_learning_rate}, R2 is {Test_poly_r2}\")"
   ],
   "metadata": {
    "collapsed": false,
    "ExecuteTime": {
     "end_time": "2024-09-05T21:24:21.309485100Z",
     "start_time": "2024-09-05T21:20:02.351898800Z"
    }
   }
  },
  {
   "cell_type": "markdown",
   "source": [],
   "metadata": {
    "collapsed": false
   },
   "outputs": []
  }
 ],
 "metadata": {
  "kernelspec": {
   "display_name": "Python 3",
   "language": "python",
   "name": "python3"
  },
  "language_info": {
   "codemirror_mode": {
    "name": "ipython",
    "version": 2
   },
   "file_extension": ".py",
   "mimetype": "text/x-python",
   "name": "python",
   "nbconvert_exporter": "python",
   "pygments_lexer": "ipython2",
   "version": "2.7.6"
  }
 },
 "nbformat": 4,
 "nbformat_minor": 0
}
